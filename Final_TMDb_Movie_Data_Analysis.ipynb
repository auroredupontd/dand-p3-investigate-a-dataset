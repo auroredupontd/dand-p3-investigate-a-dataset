{
 "cells": [
  {
   "cell_type": "markdown",
   "metadata": {},
   "source": [
    "# <center>TMDb Movie Data Analysis </center>\n",
    "\n",
    "## Table of Contents\n",
    "<ul>\n",
    "<li><a href=\"#intro\">Introduction</a></li>\n",
    "<li><a href=\"#wrangling\">Data Wrangling</a></li>\n",
    "<li><a href=\"#eda\">Exploratory Data Analysis</a></li>\n",
    "<li><a href=\"#conclusions\">Conclusions</a></li>\n",
    "</ul>"
   ]
  },
  {
   "cell_type": "markdown",
   "metadata": {},
   "source": [
    "<a id='intro'></a>\n",
    "## Introduction\n",
    "\n",
    "</br><font color='blue'>In this project, we will be analyzing data associated with 10,000 movies collected from The Movie Database (TMDb). \n",
    "The analysis will be driven by the following question: <b><i>What affects the amount of money (either revenue or profit) a movie makes?</i></b>\n",
    "\n",
    "We'll dive into the questions mentioned below:\n",
    "1. How many movies have been released per year?\n",
    "2. How are the profit versus the profit average trending over the years?\n",
    "3. What genre of movie is the most recurrent?\n",
    "4. What genre of movie drives the higher revenue and the higher profit? Are they the same?\n",
    "5. What movie generated the highest revenue and got the highest profit?\n",
    "6. Which keyword stands out among all of them? What does the revenue associated with the keyword look like?\n",
    "7. Who are the most and least profitable actors?\n",
    "8. What studios were the most and the least profitable in 2015?\n",
    "9. Overview of the studios that work with the same actors.\n",
    "10. What is the best month to release a movie based on the profit?\n",
    "\n",
    "We will be interested in finding trends among production, cast, and revenue/budget. That's why we'll look into how many movies are made in each year for example.\n",
    "</font>\n"
   ]
  },
  {
   "cell_type": "code",
   "execution_count": 1,
   "metadata": {
    "collapsed": true
   },
   "outputs": [],
   "source": [
    "# Import all needed packages.\n",
    "\n",
    "import numpy as np\n",
    "import pandas as pd\n",
    "import matplotlib as mpl\n",
    "import matplotlib.pyplot as plt\n",
    "import seaborn as sns\n",
    "import seaborn as sn\n",
    "import csv\n",
    "\n",
    "% matplotlib inline\n",
    "sns.set_style(style=\"darkgrid\")"
   ]
  },
  {
   "cell_type": "markdown",
   "metadata": {},
   "source": [
    "<a id='wrangling'></a>\n",
    "## Data Wrangling\n",
    "\n",
    "\n",
    "### General Properties"
   ]
  },
  {
   "cell_type": "code",
   "execution_count": 2,
   "metadata": {},
   "outputs": [
    {
     "data": {
      "text/html": [
       "<div>\n",
       "<style>\n",
       "    .dataframe thead tr:only-child th {\n",
       "        text-align: right;\n",
       "    }\n",
       "\n",
       "    .dataframe thead th {\n",
       "        text-align: left;\n",
       "    }\n",
       "\n",
       "    .dataframe tbody tr th {\n",
       "        vertical-align: top;\n",
       "    }\n",
       "</style>\n",
       "<table border=\"1\" class=\"dataframe\">\n",
       "  <thead>\n",
       "    <tr style=\"text-align: right;\">\n",
       "      <th></th>\n",
       "      <th>id</th>\n",
       "      <th>imdb_id</th>\n",
       "      <th>popularity</th>\n",
       "      <th>budget</th>\n",
       "      <th>revenue</th>\n",
       "      <th>original_title</th>\n",
       "      <th>cast</th>\n",
       "      <th>homepage</th>\n",
       "      <th>director</th>\n",
       "      <th>tagline</th>\n",
       "      <th>keywords</th>\n",
       "      <th>overview</th>\n",
       "      <th>runtime</th>\n",
       "      <th>genres</th>\n",
       "      <th>production_companies</th>\n",
       "      <th>release_date</th>\n",
       "      <th>vote_count</th>\n",
       "      <th>vote_average</th>\n",
       "      <th>release_year</th>\n",
       "      <th>budget_adj</th>\n",
       "      <th>revenue_adj</th>\n",
       "    </tr>\n",
       "  </thead>\n",
       "  <tbody>\n",
       "    <tr>\n",
       "      <th>0</th>\n",
       "      <td>135397</td>\n",
       "      <td>tt0369610</td>\n",
       "      <td>32.985763</td>\n",
       "      <td>150000000</td>\n",
       "      <td>1513528810</td>\n",
       "      <td>Jurassic World</td>\n",
       "      <td>Chris Pratt|Bryce Dallas Howard|Irrfan Khan|Vi...</td>\n",
       "      <td>http://www.jurassicworld.com/</td>\n",
       "      <td>Colin Trevorrow</td>\n",
       "      <td>The park is open.</td>\n",
       "      <td>monster|dna|tyrannosaurus rex|velociraptor|island</td>\n",
       "      <td>Twenty-two years after the events of Jurassic ...</td>\n",
       "      <td>124</td>\n",
       "      <td>Action|Adventure|Science Fiction|Thriller</td>\n",
       "      <td>Universal Studios|Amblin Entertainment|Legenda...</td>\n",
       "      <td>6/9/15</td>\n",
       "      <td>5562</td>\n",
       "      <td>6.5</td>\n",
       "      <td>2015</td>\n",
       "      <td>1.379999e+08</td>\n",
       "      <td>1.392446e+09</td>\n",
       "    </tr>\n",
       "    <tr>\n",
       "      <th>1</th>\n",
       "      <td>76341</td>\n",
       "      <td>tt1392190</td>\n",
       "      <td>28.419936</td>\n",
       "      <td>150000000</td>\n",
       "      <td>378436354</td>\n",
       "      <td>Mad Max: Fury Road</td>\n",
       "      <td>Tom Hardy|Charlize Theron|Hugh Keays-Byrne|Nic...</td>\n",
       "      <td>http://www.madmaxmovie.com/</td>\n",
       "      <td>George Miller</td>\n",
       "      <td>What a Lovely Day.</td>\n",
       "      <td>future|chase|post-apocalyptic|dystopia|australia</td>\n",
       "      <td>An apocalyptic story set in the furthest reach...</td>\n",
       "      <td>120</td>\n",
       "      <td>Action|Adventure|Science Fiction|Thriller</td>\n",
       "      <td>Village Roadshow Pictures|Kennedy Miller Produ...</td>\n",
       "      <td>5/13/15</td>\n",
       "      <td>6185</td>\n",
       "      <td>7.1</td>\n",
       "      <td>2015</td>\n",
       "      <td>1.379999e+08</td>\n",
       "      <td>3.481613e+08</td>\n",
       "    </tr>\n",
       "    <tr>\n",
       "      <th>2</th>\n",
       "      <td>262500</td>\n",
       "      <td>tt2908446</td>\n",
       "      <td>13.112507</td>\n",
       "      <td>110000000</td>\n",
       "      <td>295238201</td>\n",
       "      <td>Insurgent</td>\n",
       "      <td>Shailene Woodley|Theo James|Kate Winslet|Ansel...</td>\n",
       "      <td>http://www.thedivergentseries.movie/#insurgent</td>\n",
       "      <td>Robert Schwentke</td>\n",
       "      <td>One Choice Can Destroy You</td>\n",
       "      <td>based on novel|revolution|dystopia|sequel|dyst...</td>\n",
       "      <td>Beatrice Prior must confront her inner demons ...</td>\n",
       "      <td>119</td>\n",
       "      <td>Adventure|Science Fiction|Thriller</td>\n",
       "      <td>Summit Entertainment|Mandeville Films|Red Wago...</td>\n",
       "      <td>3/18/15</td>\n",
       "      <td>2480</td>\n",
       "      <td>6.3</td>\n",
       "      <td>2015</td>\n",
       "      <td>1.012000e+08</td>\n",
       "      <td>2.716190e+08</td>\n",
       "    </tr>\n",
       "    <tr>\n",
       "      <th>3</th>\n",
       "      <td>140607</td>\n",
       "      <td>tt2488496</td>\n",
       "      <td>11.173104</td>\n",
       "      <td>200000000</td>\n",
       "      <td>2068178225</td>\n",
       "      <td>Star Wars: The Force Awakens</td>\n",
       "      <td>Harrison Ford|Mark Hamill|Carrie Fisher|Adam D...</td>\n",
       "      <td>http://www.starwars.com/films/star-wars-episod...</td>\n",
       "      <td>J.J. Abrams</td>\n",
       "      <td>Every generation has a story.</td>\n",
       "      <td>android|spaceship|jedi|space opera|3d</td>\n",
       "      <td>Thirty years after defeating the Galactic Empi...</td>\n",
       "      <td>136</td>\n",
       "      <td>Action|Adventure|Science Fiction|Fantasy</td>\n",
       "      <td>Lucasfilm|Truenorth Productions|Bad Robot</td>\n",
       "      <td>12/15/15</td>\n",
       "      <td>5292</td>\n",
       "      <td>7.5</td>\n",
       "      <td>2015</td>\n",
       "      <td>1.839999e+08</td>\n",
       "      <td>1.902723e+09</td>\n",
       "    </tr>\n",
       "    <tr>\n",
       "      <th>4</th>\n",
       "      <td>168259</td>\n",
       "      <td>tt2820852</td>\n",
       "      <td>9.335014</td>\n",
       "      <td>190000000</td>\n",
       "      <td>1506249360</td>\n",
       "      <td>Furious 7</td>\n",
       "      <td>Vin Diesel|Paul Walker|Jason Statham|Michelle ...</td>\n",
       "      <td>http://www.furious7.com/</td>\n",
       "      <td>James Wan</td>\n",
       "      <td>Vengeance Hits Home</td>\n",
       "      <td>car race|speed|revenge|suspense|car</td>\n",
       "      <td>Deckard Shaw seeks revenge against Dominic Tor...</td>\n",
       "      <td>137</td>\n",
       "      <td>Action|Crime|Thriller</td>\n",
       "      <td>Universal Pictures|Original Film|Media Rights ...</td>\n",
       "      <td>4/1/15</td>\n",
       "      <td>2947</td>\n",
       "      <td>7.3</td>\n",
       "      <td>2015</td>\n",
       "      <td>1.747999e+08</td>\n",
       "      <td>1.385749e+09</td>\n",
       "    </tr>\n",
       "  </tbody>\n",
       "</table>\n",
       "</div>"
      ],
      "text/plain": [
       "       id    imdb_id  popularity     budget     revenue  \\\n",
       "0  135397  tt0369610   32.985763  150000000  1513528810   \n",
       "1   76341  tt1392190   28.419936  150000000   378436354   \n",
       "2  262500  tt2908446   13.112507  110000000   295238201   \n",
       "3  140607  tt2488496   11.173104  200000000  2068178225   \n",
       "4  168259  tt2820852    9.335014  190000000  1506249360   \n",
       "\n",
       "                 original_title  \\\n",
       "0                Jurassic World   \n",
       "1            Mad Max: Fury Road   \n",
       "2                     Insurgent   \n",
       "3  Star Wars: The Force Awakens   \n",
       "4                     Furious 7   \n",
       "\n",
       "                                                cast  \\\n",
       "0  Chris Pratt|Bryce Dallas Howard|Irrfan Khan|Vi...   \n",
       "1  Tom Hardy|Charlize Theron|Hugh Keays-Byrne|Nic...   \n",
       "2  Shailene Woodley|Theo James|Kate Winslet|Ansel...   \n",
       "3  Harrison Ford|Mark Hamill|Carrie Fisher|Adam D...   \n",
       "4  Vin Diesel|Paul Walker|Jason Statham|Michelle ...   \n",
       "\n",
       "                                            homepage          director  \\\n",
       "0                      http://www.jurassicworld.com/   Colin Trevorrow   \n",
       "1                        http://www.madmaxmovie.com/     George Miller   \n",
       "2     http://www.thedivergentseries.movie/#insurgent  Robert Schwentke   \n",
       "3  http://www.starwars.com/films/star-wars-episod...       J.J. Abrams   \n",
       "4                           http://www.furious7.com/         James Wan   \n",
       "\n",
       "                         tagline  \\\n",
       "0              The park is open.   \n",
       "1             What a Lovely Day.   \n",
       "2     One Choice Can Destroy You   \n",
       "3  Every generation has a story.   \n",
       "4            Vengeance Hits Home   \n",
       "\n",
       "                                            keywords  \\\n",
       "0  monster|dna|tyrannosaurus rex|velociraptor|island   \n",
       "1   future|chase|post-apocalyptic|dystopia|australia   \n",
       "2  based on novel|revolution|dystopia|sequel|dyst...   \n",
       "3              android|spaceship|jedi|space opera|3d   \n",
       "4                car race|speed|revenge|suspense|car   \n",
       "\n",
       "                                            overview  runtime  \\\n",
       "0  Twenty-two years after the events of Jurassic ...      124   \n",
       "1  An apocalyptic story set in the furthest reach...      120   \n",
       "2  Beatrice Prior must confront her inner demons ...      119   \n",
       "3  Thirty years after defeating the Galactic Empi...      136   \n",
       "4  Deckard Shaw seeks revenge against Dominic Tor...      137   \n",
       "\n",
       "                                      genres  \\\n",
       "0  Action|Adventure|Science Fiction|Thriller   \n",
       "1  Action|Adventure|Science Fiction|Thriller   \n",
       "2         Adventure|Science Fiction|Thriller   \n",
       "3   Action|Adventure|Science Fiction|Fantasy   \n",
       "4                      Action|Crime|Thriller   \n",
       "\n",
       "                                production_companies release_date  vote_count  \\\n",
       "0  Universal Studios|Amblin Entertainment|Legenda...       6/9/15        5562   \n",
       "1  Village Roadshow Pictures|Kennedy Miller Produ...      5/13/15        6185   \n",
       "2  Summit Entertainment|Mandeville Films|Red Wago...      3/18/15        2480   \n",
       "3          Lucasfilm|Truenorth Productions|Bad Robot     12/15/15        5292   \n",
       "4  Universal Pictures|Original Film|Media Rights ...       4/1/15        2947   \n",
       "\n",
       "   vote_average  release_year    budget_adj   revenue_adj  \n",
       "0           6.5          2015  1.379999e+08  1.392446e+09  \n",
       "1           7.1          2015  1.379999e+08  3.481613e+08  \n",
       "2           6.3          2015  1.012000e+08  2.716190e+08  \n",
       "3           7.5          2015  1.839999e+08  1.902723e+09  \n",
       "4           7.3          2015  1.747999e+08  1.385749e+09  "
      ]
     },
     "execution_count": 2,
     "metadata": {},
     "output_type": "execute_result"
    }
   ],
   "source": [
    "# Loads movie dataset and display the first rows to get an idea of what data are included in it.\n",
    "df = pd.read_csv('tmdb-movies.csv')\n",
    "pd.options.display.max_columns = None\n",
    "df.head()"
   ]
  },
  {
   "cell_type": "code",
   "execution_count": 3,
   "metadata": {
    "collapsed": true
   },
   "outputs": [],
   "source": [
    "# The label of the column are quite clear enough, I don't think it would make sense to include a description of each column. \n",
    "# Besides, all columns are not needed, so we will need to drop some of them later."
   ]
  },
  {
   "cell_type": "code",
   "execution_count": 4,
   "metadata": {
    "scrolled": true
   },
   "outputs": [
    {
     "data": {
      "text/plain": [
       "(10866, 21)"
      ]
     },
     "execution_count": 4,
     "metadata": {},
     "output_type": "execute_result"
    }
   ],
   "source": [
    "# Allows us to get the number of rows and columns.\n",
    "df.shape"
   ]
  },
  {
   "cell_type": "markdown",
   "metadata": {},
   "source": [
    "<font color='blue'>There are 10,866 movies and 21 columns.</font>"
   ]
  },
  {
   "cell_type": "code",
   "execution_count": 5,
   "metadata": {},
   "outputs": [
    {
     "data": {
      "text/html": [
       "<div>\n",
       "<style>\n",
       "    .dataframe thead tr:only-child th {\n",
       "        text-align: right;\n",
       "    }\n",
       "\n",
       "    .dataframe thead th {\n",
       "        text-align: left;\n",
       "    }\n",
       "\n",
       "    .dataframe tbody tr th {\n",
       "        vertical-align: top;\n",
       "    }\n",
       "</style>\n",
       "<table border=\"1\" class=\"dataframe\">\n",
       "  <thead>\n",
       "    <tr style=\"text-align: right;\">\n",
       "      <th></th>\n",
       "      <th>id</th>\n",
       "      <th>popularity</th>\n",
       "      <th>budget</th>\n",
       "      <th>revenue</th>\n",
       "      <th>runtime</th>\n",
       "      <th>vote_count</th>\n",
       "      <th>vote_average</th>\n",
       "      <th>release_year</th>\n",
       "      <th>budget_adj</th>\n",
       "      <th>revenue_adj</th>\n",
       "    </tr>\n",
       "  </thead>\n",
       "  <tbody>\n",
       "    <tr>\n",
       "      <th>count</th>\n",
       "      <td>10866.000000</td>\n",
       "      <td>10866.000000</td>\n",
       "      <td>1.086600e+04</td>\n",
       "      <td>1.086600e+04</td>\n",
       "      <td>10866.000000</td>\n",
       "      <td>10866.000000</td>\n",
       "      <td>10866.000000</td>\n",
       "      <td>10866.000000</td>\n",
       "      <td>1.086600e+04</td>\n",
       "      <td>1.086600e+04</td>\n",
       "    </tr>\n",
       "    <tr>\n",
       "      <th>mean</th>\n",
       "      <td>66064.177434</td>\n",
       "      <td>0.646441</td>\n",
       "      <td>1.462570e+07</td>\n",
       "      <td>3.982332e+07</td>\n",
       "      <td>102.070863</td>\n",
       "      <td>217.389748</td>\n",
       "      <td>5.974922</td>\n",
       "      <td>2001.322658</td>\n",
       "      <td>1.755104e+07</td>\n",
       "      <td>5.136436e+07</td>\n",
       "    </tr>\n",
       "    <tr>\n",
       "      <th>std</th>\n",
       "      <td>92130.136561</td>\n",
       "      <td>1.000185</td>\n",
       "      <td>3.091321e+07</td>\n",
       "      <td>1.170035e+08</td>\n",
       "      <td>31.381405</td>\n",
       "      <td>575.619058</td>\n",
       "      <td>0.935142</td>\n",
       "      <td>12.812941</td>\n",
       "      <td>3.430616e+07</td>\n",
       "      <td>1.446325e+08</td>\n",
       "    </tr>\n",
       "    <tr>\n",
       "      <th>min</th>\n",
       "      <td>5.000000</td>\n",
       "      <td>0.000065</td>\n",
       "      <td>0.000000e+00</td>\n",
       "      <td>0.000000e+00</td>\n",
       "      <td>0.000000</td>\n",
       "      <td>10.000000</td>\n",
       "      <td>1.500000</td>\n",
       "      <td>1960.000000</td>\n",
       "      <td>0.000000e+00</td>\n",
       "      <td>0.000000e+00</td>\n",
       "    </tr>\n",
       "    <tr>\n",
       "      <th>25%</th>\n",
       "      <td>10596.250000</td>\n",
       "      <td>0.207583</td>\n",
       "      <td>0.000000e+00</td>\n",
       "      <td>0.000000e+00</td>\n",
       "      <td>90.000000</td>\n",
       "      <td>17.000000</td>\n",
       "      <td>5.400000</td>\n",
       "      <td>1995.000000</td>\n",
       "      <td>0.000000e+00</td>\n",
       "      <td>0.000000e+00</td>\n",
       "    </tr>\n",
       "    <tr>\n",
       "      <th>50%</th>\n",
       "      <td>20669.000000</td>\n",
       "      <td>0.383856</td>\n",
       "      <td>0.000000e+00</td>\n",
       "      <td>0.000000e+00</td>\n",
       "      <td>99.000000</td>\n",
       "      <td>38.000000</td>\n",
       "      <td>6.000000</td>\n",
       "      <td>2006.000000</td>\n",
       "      <td>0.000000e+00</td>\n",
       "      <td>0.000000e+00</td>\n",
       "    </tr>\n",
       "    <tr>\n",
       "      <th>75%</th>\n",
       "      <td>75610.000000</td>\n",
       "      <td>0.713817</td>\n",
       "      <td>1.500000e+07</td>\n",
       "      <td>2.400000e+07</td>\n",
       "      <td>111.000000</td>\n",
       "      <td>145.750000</td>\n",
       "      <td>6.600000</td>\n",
       "      <td>2011.000000</td>\n",
       "      <td>2.085325e+07</td>\n",
       "      <td>3.369710e+07</td>\n",
       "    </tr>\n",
       "    <tr>\n",
       "      <th>max</th>\n",
       "      <td>417859.000000</td>\n",
       "      <td>32.985763</td>\n",
       "      <td>4.250000e+08</td>\n",
       "      <td>2.781506e+09</td>\n",
       "      <td>900.000000</td>\n",
       "      <td>9767.000000</td>\n",
       "      <td>9.200000</td>\n",
       "      <td>2015.000000</td>\n",
       "      <td>4.250000e+08</td>\n",
       "      <td>2.827124e+09</td>\n",
       "    </tr>\n",
       "  </tbody>\n",
       "</table>\n",
       "</div>"
      ],
      "text/plain": [
       "                  id    popularity        budget       revenue       runtime  \\\n",
       "count   10866.000000  10866.000000  1.086600e+04  1.086600e+04  10866.000000   \n",
       "mean    66064.177434      0.646441  1.462570e+07  3.982332e+07    102.070863   \n",
       "std     92130.136561      1.000185  3.091321e+07  1.170035e+08     31.381405   \n",
       "min         5.000000      0.000065  0.000000e+00  0.000000e+00      0.000000   \n",
       "25%     10596.250000      0.207583  0.000000e+00  0.000000e+00     90.000000   \n",
       "50%     20669.000000      0.383856  0.000000e+00  0.000000e+00     99.000000   \n",
       "75%     75610.000000      0.713817  1.500000e+07  2.400000e+07    111.000000   \n",
       "max    417859.000000     32.985763  4.250000e+08  2.781506e+09    900.000000   \n",
       "\n",
       "         vote_count  vote_average  release_year    budget_adj   revenue_adj  \n",
       "count  10866.000000  10866.000000  10866.000000  1.086600e+04  1.086600e+04  \n",
       "mean     217.389748      5.974922   2001.322658  1.755104e+07  5.136436e+07  \n",
       "std      575.619058      0.935142     12.812941  3.430616e+07  1.446325e+08  \n",
       "min       10.000000      1.500000   1960.000000  0.000000e+00  0.000000e+00  \n",
       "25%       17.000000      5.400000   1995.000000  0.000000e+00  0.000000e+00  \n",
       "50%       38.000000      6.000000   2006.000000  0.000000e+00  0.000000e+00  \n",
       "75%      145.750000      6.600000   2011.000000  2.085325e+07  3.369710e+07  \n",
       "max     9767.000000      9.200000   2015.000000  4.250000e+08  2.827124e+09  "
      ]
     },
     "execution_count": 5,
     "metadata": {},
     "output_type": "execute_result"
    }
   ],
   "source": [
    "# Gives us some summary statistics in order to understand our data and identify any changes we'll have to make.\n",
    "df.describe()"
   ]
  },
  {
   "cell_type": "code",
   "execution_count": 6,
   "metadata": {
    "scrolled": true
   },
   "outputs": [
    {
     "name": "stdout",
     "output_type": "stream",
     "text": [
      "<class 'pandas.core.frame.DataFrame'>\n",
      "RangeIndex: 10866 entries, 0 to 10865\n",
      "Data columns (total 21 columns):\n",
      "id                      10866 non-null int64\n",
      "imdb_id                 10856 non-null object\n",
      "popularity              10866 non-null float64\n",
      "budget                  10866 non-null int64\n",
      "revenue                 10866 non-null int64\n",
      "original_title          10866 non-null object\n",
      "cast                    10790 non-null object\n",
      "homepage                2936 non-null object\n",
      "director                10822 non-null object\n",
      "tagline                 8042 non-null object\n",
      "keywords                9373 non-null object\n",
      "overview                10862 non-null object\n",
      "runtime                 10866 non-null int64\n",
      "genres                  10843 non-null object\n",
      "production_companies    9836 non-null object\n",
      "release_date            10866 non-null object\n",
      "vote_count              10866 non-null int64\n",
      "vote_average            10866 non-null float64\n",
      "release_year            10866 non-null int64\n",
      "budget_adj              10866 non-null float64\n",
      "revenue_adj             10866 non-null float64\n",
      "dtypes: float64(4), int64(6), object(11)\n",
      "memory usage: 1.7+ MB\n"
     ]
    }
   ],
   "source": [
    "# We can see where the missing data are located.\n",
    "df.info()"
   ]
  },
  {
   "cell_type": "markdown",
   "metadata": {},
   "source": [
    "<font color='blue'>Data are missing in the following colums. \"imdb_id\", \"cast\", \"homepage\", \"director\", \"tagline\", \"keywords\", \"overview\", \"genres\" and \"production_companies\". </font>"
   ]
  },
  {
   "cell_type": "code",
   "execution_count": 7,
   "metadata": {
    "scrolled": true
   },
   "outputs": [
    {
     "data": {
      "image/png": "[encoded data removed]",
      "text/plain": [
       "<matplotlib.figure.Figure at 0x1a0a325ba8>"
      ]
     },
     "metadata": {},
     "output_type": "display_data"
    }
   ],
   "source": [
    "# Shows attribute distributions. \n",
    "df.hist(figsize=(10,8));"
   ]
  },
  {
   "cell_type": "markdown",
   "metadata": {},
   "source": [
    "### Data Cleaning "
   ]
  },
  {
   "cell_type": "code",
   "execution_count": 8,
   "metadata": {
    "scrolled": false
   },
   "outputs": [
    {
     "data": {
      "text/html": [
       "<div>\n",
       "<style>\n",
       "    .dataframe thead tr:only-child th {\n",
       "        text-align: right;\n",
       "    }\n",
       "\n",
       "    .dataframe thead th {\n",
       "        text-align: left;\n",
       "    }\n",
       "\n",
       "    .dataframe tbody tr th {\n",
       "        vertical-align: top;\n",
       "    }\n",
       "</style>\n",
       "<table border=\"1\" class=\"dataframe\">\n",
       "  <thead>\n",
       "    <tr style=\"text-align: right;\">\n",
       "      <th></th>\n",
       "      <th>id</th>\n",
       "      <th>imdb_id</th>\n",
       "      <th>popularity</th>\n",
       "      <th>budget</th>\n",
       "      <th>revenue</th>\n",
       "      <th>original_title</th>\n",
       "      <th>cast</th>\n",
       "      <th>homepage</th>\n",
       "      <th>director</th>\n",
       "      <th>tagline</th>\n",
       "      <th>keywords</th>\n",
       "      <th>overview</th>\n",
       "      <th>runtime</th>\n",
       "      <th>genres</th>\n",
       "      <th>production_companies</th>\n",
       "      <th>release_date</th>\n",
       "      <th>vote_count</th>\n",
       "      <th>vote_average</th>\n",
       "      <th>release_year</th>\n",
       "      <th>budget_adj</th>\n",
       "      <th>revenue_adj</th>\n",
       "    </tr>\n",
       "  </thead>\n",
       "  <tbody>\n",
       "    <tr>\n",
       "      <th>2089</th>\n",
       "      <td>42194</td>\n",
       "      <td>tt0411951</td>\n",
       "      <td>0.59643</td>\n",
       "      <td>30000000</td>\n",
       "      <td>967000</td>\n",
       "      <td>TEKKEN</td>\n",
       "      <td>Jon Foo|Kelly Overton|Cary-Hiroyuki Tagawa|Ian...</td>\n",
       "      <td>NaN</td>\n",
       "      <td>Dwight H. Little</td>\n",
       "      <td>Survival is no game</td>\n",
       "      <td>martial arts|dystopia|based on video game|mart...</td>\n",
       "      <td>In the year of 2039, after World Wars destroy ...</td>\n",
       "      <td>92</td>\n",
       "      <td>Crime|Drama|Action|Thriller|Science Fiction</td>\n",
       "      <td>Namco|Light Song Films</td>\n",
       "      <td>3/20/10</td>\n",
       "      <td>110</td>\n",
       "      <td>5.0</td>\n",
       "      <td>2010</td>\n",
       "      <td>30000000.0</td>\n",
       "      <td>967000.0</td>\n",
       "    </tr>\n",
       "    <tr>\n",
       "      <th>2090</th>\n",
       "      <td>42194</td>\n",
       "      <td>tt0411951</td>\n",
       "      <td>0.59643</td>\n",
       "      <td>30000000</td>\n",
       "      <td>967000</td>\n",
       "      <td>TEKKEN</td>\n",
       "      <td>Jon Foo|Kelly Overton|Cary-Hiroyuki Tagawa|Ian...</td>\n",
       "      <td>NaN</td>\n",
       "      <td>Dwight H. Little</td>\n",
       "      <td>Survival is no game</td>\n",
       "      <td>martial arts|dystopia|based on video game|mart...</td>\n",
       "      <td>In the year of 2039, after World Wars destroy ...</td>\n",
       "      <td>92</td>\n",
       "      <td>Crime|Drama|Action|Thriller|Science Fiction</td>\n",
       "      <td>Namco|Light Song Films</td>\n",
       "      <td>3/20/10</td>\n",
       "      <td>110</td>\n",
       "      <td>5.0</td>\n",
       "      <td>2010</td>\n",
       "      <td>30000000.0</td>\n",
       "      <td>967000.0</td>\n",
       "    </tr>\n",
       "  </tbody>\n",
       "</table>\n",
       "</div>"
      ],
      "text/plain": [
       "         id    imdb_id  popularity    budget  revenue original_title  \\\n",
       "2089  42194  tt0411951     0.59643  30000000   967000         TEKKEN   \n",
       "2090  42194  tt0411951     0.59643  30000000   967000         TEKKEN   \n",
       "\n",
       "                                                   cast homepage  \\\n",
       "2089  Jon Foo|Kelly Overton|Cary-Hiroyuki Tagawa|Ian...      NaN   \n",
       "2090  Jon Foo|Kelly Overton|Cary-Hiroyuki Tagawa|Ian...      NaN   \n",
       "\n",
       "              director              tagline  \\\n",
       "2089  Dwight H. Little  Survival is no game   \n",
       "2090  Dwight H. Little  Survival is no game   \n",
       "\n",
       "                                               keywords  \\\n",
       "2089  martial arts|dystopia|based on video game|mart...   \n",
       "2090  martial arts|dystopia|based on video game|mart...   \n",
       "\n",
       "                                               overview  runtime  \\\n",
       "2089  In the year of 2039, after World Wars destroy ...       92   \n",
       "2090  In the year of 2039, after World Wars destroy ...       92   \n",
       "\n",
       "                                           genres    production_companies  \\\n",
       "2089  Crime|Drama|Action|Thriller|Science Fiction  Namco|Light Song Films   \n",
       "2090  Crime|Drama|Action|Thriller|Science Fiction  Namco|Light Song Films   \n",
       "\n",
       "     release_date  vote_count  vote_average  release_year  budget_adj  \\\n",
       "2089      3/20/10         110           5.0          2010  30000000.0   \n",
       "2090      3/20/10         110           5.0          2010  30000000.0   \n",
       "\n",
       "      revenue_adj  \n",
       "2089     967000.0  \n",
       "2090     967000.0  "
      ]
     },
     "execution_count": 8,
     "metadata": {},
     "output_type": "execute_result"
    }
   ],
   "source": [
    "# Shows the duplicated data.\n",
    "df[df.duplicated(['id'], keep=False)]"
   ]
  },
  {
   "cell_type": "code",
   "execution_count": 9,
   "metadata": {
    "collapsed": true,
    "scrolled": true
   },
   "outputs": [],
   "source": [
    "# Deletes duplicated row\n",
    "df.drop(labels=2090, axis=0, inplace=True)"
   ]
  },
  {
   "cell_type": "code",
   "execution_count": 10,
   "metadata": {
    "scrolled": true
   },
   "outputs": [
    {
     "name": "stdout",
     "output_type": "stream",
     "text": [
      "<class 'pandas.core.frame.DataFrame'>\n",
      "Int64Index: 10865 entries, 0 to 10865\n",
      "Data columns (total 21 columns):\n",
      "id                      10865 non-null int64\n",
      "imdb_id                 10855 non-null object\n",
      "popularity              10865 non-null float64\n",
      "budget                  10865 non-null int64\n",
      "revenue                 10865 non-null int64\n",
      "original_title          10865 non-null object\n",
      "cast                    10789 non-null object\n",
      "homepage                2936 non-null object\n",
      "director                10821 non-null object\n",
      "tagline                 8041 non-null object\n",
      "keywords                9372 non-null object\n",
      "overview                10861 non-null object\n",
      "runtime                 10865 non-null int64\n",
      "genres                  10842 non-null object\n",
      "production_companies    9835 non-null object\n",
      "release_date            10865 non-null object\n",
      "vote_count              10865 non-null int64\n",
      "vote_average            10865 non-null float64\n",
      "release_year            10865 non-null int64\n",
      "budget_adj              10865 non-null float64\n",
      "revenue_adj             10865 non-null float64\n",
      "dtypes: float64(4), int64(6), object(11)\n",
      "memory usage: 1.8+ MB\n"
     ]
    }
   ],
   "source": [
    "df.info()"
   ]
  },
  {
   "cell_type": "code",
   "execution_count": 11,
   "metadata": {
    "collapsed": true
   },
   "outputs": [],
   "source": [
    "# Deletes the columns I won't be using because they shouldn't be useful in the analysis.\n",
    "df.drop(['imdb_id','popularity','budget','revenue','homepage','tagline','overview', 'runtime','vote_count'], axis=1, inplace=True)"
   ]
  },
  {
   "cell_type": "code",
   "execution_count": 12,
   "metadata": {
    "scrolled": true
   },
   "outputs": [
    {
     "name": "stdout",
     "output_type": "stream",
     "text": [
      "<class 'pandas.core.frame.DataFrame'>\n",
      "Int64Index: 10865 entries, 0 to 10865\n",
      "Data columns (total 12 columns):\n",
      "id                      10865 non-null int64\n",
      "original_title          10865 non-null object\n",
      "cast                    10789 non-null object\n",
      "director                10821 non-null object\n",
      "keywords                9372 non-null object\n",
      "genres                  10842 non-null object\n",
      "production_companies    9835 non-null object\n",
      "release_date            10865 non-null object\n",
      "vote_average            10865 non-null float64\n",
      "release_year            10865 non-null int64\n",
      "budget_adj              10865 non-null float64\n",
      "revenue_adj             10865 non-null float64\n",
      "dtypes: float64(3), int64(2), object(7)\n",
      "memory usage: 1.1+ MB\n"
     ]
    }
   ],
   "source": [
    "# Gets an idea of what the new dataset looks like.\n",
    "df.info()"
   ]
  },
  {
   "cell_type": "code",
   "execution_count": 13,
   "metadata": {
    "scrolled": true
   },
   "outputs": [
    {
     "name": "stdout",
     "output_type": "stream",
     "text": [
      "<class 'pandas.core.frame.DataFrame'>\n",
      "Int64Index: 8666 entries, 0 to 10865\n",
      "Data columns (total 12 columns):\n",
      "id                      8666 non-null int64\n",
      "original_title          8666 non-null object\n",
      "cast                    8666 non-null object\n",
      "director                8666 non-null object\n",
      "keywords                8666 non-null object\n",
      "genres                  8666 non-null object\n",
      "production_companies    8666 non-null object\n",
      "release_date            8666 non-null object\n",
      "vote_average            8666 non-null float64\n",
      "release_year            8666 non-null int64\n",
      "budget_adj              8666 non-null float64\n",
      "revenue_adj             8666 non-null float64\n",
      "dtypes: float64(3), int64(2), object(7)\n",
      "memory usage: 880.1+ KB\n"
     ]
    }
   ],
   "source": [
    "# Deletes rows that don't include all data.\n",
    "df.dropna(how= 'any', inplace=True)\n",
    "\n",
    "# Overview of the remaining data.\n",
    "df.info()"
   ]
  },
  {
   "cell_type": "code",
   "execution_count": 14,
   "metadata": {
    "collapsed": true
   },
   "outputs": [],
   "source": [
    "# Saves new clean dataset for next section\n",
    "df.to_csv('data_tmdb.csv', index=False)"
   ]
  },
  {
   "cell_type": "code",
   "execution_count": 15,
   "metadata": {
    "scrolled": true
   },
   "outputs": [
    {
     "data": {
      "text/html": [
       "<div>\n",
       "<style>\n",
       "    .dataframe thead tr:only-child th {\n",
       "        text-align: right;\n",
       "    }\n",
       "\n",
       "    .dataframe thead th {\n",
       "        text-align: left;\n",
       "    }\n",
       "\n",
       "    .dataframe tbody tr th {\n",
       "        vertical-align: top;\n",
       "    }\n",
       "</style>\n",
       "<table border=\"1\" class=\"dataframe\">\n",
       "  <thead>\n",
       "    <tr style=\"text-align: right;\">\n",
       "      <th></th>\n",
       "      <th>id</th>\n",
       "      <th>vote_average</th>\n",
       "      <th>release_year</th>\n",
       "      <th>budget_adj</th>\n",
       "      <th>revenue_adj</th>\n",
       "    </tr>\n",
       "  </thead>\n",
       "  <tbody>\n",
       "    <tr>\n",
       "      <th>count</th>\n",
       "      <td>8666.000000</td>\n",
       "      <td>8666.000000</td>\n",
       "      <td>8666.000000</td>\n",
       "      <td>8.666000e+03</td>\n",
       "      <td>8.666000e+03</td>\n",
       "    </tr>\n",
       "    <tr>\n",
       "      <th>mean</th>\n",
       "      <td>57003.179206</td>\n",
       "      <td>6.003612</td>\n",
       "      <td>2000.129818</td>\n",
       "      <td>2.130749e+07</td>\n",
       "      <td>6.362440e+07</td>\n",
       "    </tr>\n",
       "    <tr>\n",
       "      <th>std</th>\n",
       "      <td>86242.565745</td>\n",
       "      <td>0.893539</td>\n",
       "      <td>13.221278</td>\n",
       "      <td>3.710269e+07</td>\n",
       "      <td>1.592874e+08</td>\n",
       "    </tr>\n",
       "    <tr>\n",
       "      <th>min</th>\n",
       "      <td>5.000000</td>\n",
       "      <td>1.500000</td>\n",
       "      <td>1960.000000</td>\n",
       "      <td>0.000000e+00</td>\n",
       "      <td>0.000000e+00</td>\n",
       "    </tr>\n",
       "    <tr>\n",
       "      <th>25%</th>\n",
       "      <td>9816.750000</td>\n",
       "      <td>5.500000</td>\n",
       "      <td>1993.000000</td>\n",
       "      <td>0.000000e+00</td>\n",
       "      <td>0.000000e+00</td>\n",
       "    </tr>\n",
       "    <tr>\n",
       "      <th>50%</th>\n",
       "      <td>16216.500000</td>\n",
       "      <td>6.100000</td>\n",
       "      <td>2004.000000</td>\n",
       "      <td>2.130703e+06</td>\n",
       "      <td>1.891237e+05</td>\n",
       "    </tr>\n",
       "    <tr>\n",
       "      <th>75%</th>\n",
       "      <td>54003.000000</td>\n",
       "      <td>6.600000</td>\n",
       "      <td>2011.000000</td>\n",
       "      <td>2.810466e+07</td>\n",
       "      <td>5.524857e+07</td>\n",
       "    </tr>\n",
       "    <tr>\n",
       "      <th>max</th>\n",
       "      <td>417859.000000</td>\n",
       "      <td>8.700000</td>\n",
       "      <td>2015.000000</td>\n",
       "      <td>4.250000e+08</td>\n",
       "      <td>2.827124e+09</td>\n",
       "    </tr>\n",
       "  </tbody>\n",
       "</table>\n",
       "</div>"
      ],
      "text/plain": [
       "                  id  vote_average  release_year    budget_adj   revenue_adj\n",
       "count    8666.000000   8666.000000   8666.000000  8.666000e+03  8.666000e+03\n",
       "mean    57003.179206      6.003612   2000.129818  2.130749e+07  6.362440e+07\n",
       "std     86242.565745      0.893539     13.221278  3.710269e+07  1.592874e+08\n",
       "min         5.000000      1.500000   1960.000000  0.000000e+00  0.000000e+00\n",
       "25%      9816.750000      5.500000   1993.000000  0.000000e+00  0.000000e+00\n",
       "50%     16216.500000      6.100000   2004.000000  2.130703e+06  1.891237e+05\n",
       "75%     54003.000000      6.600000   2011.000000  2.810466e+07  5.524857e+07\n",
       "max    417859.000000      8.700000   2015.000000  4.250000e+08  2.827124e+09"
      ]
     },
     "execution_count": 15,
     "metadata": {},
     "output_type": "execute_result"
    }
   ],
   "source": [
    "df.describe()"
   ]
  },
  {
   "cell_type": "code",
   "execution_count": 16,
   "metadata": {
    "scrolled": true
   },
   "outputs": [
    {
     "data": {
      "image/png": "[encoded data removed]",
      "text/plain": [
       "<matplotlib.figure.Figure at 0x1a0b07c0f0>"
      ]
     },
     "metadata": {},
     "output_type": "display_data"
    }
   ],
   "source": [
    "df.hist(figsize=(10,8));"
   ]
  },
  {
   "cell_type": "code",
   "execution_count": 17,
   "metadata": {
    "collapsed": true
   },
   "outputs": [],
   "source": [
    "# Shortens the column names for a better readability.\n",
    "df = df.rename(columns = {'original_title':'movie','production_companies':'studio','vote_average': 'rating', 'release_date': 'dates', 'release_year':'year', 'budget_adj':'budget','revenue_adj':'revenue'})"
   ]
  },
  {
   "cell_type": "code",
   "execution_count": 18,
   "metadata": {
    "collapsed": true
   },
   "outputs": [],
   "source": [
    "# Gets column names in lowercase.\n",
    "df.columns = df.columns.str.lower()"
   ]
  },
  {
   "cell_type": "code",
   "execution_count": 19,
   "metadata": {
    "collapsed": true
   },
   "outputs": [],
   "source": [
    "# Saves new clean datasets for next section.\n",
    "df.to_csv('data_tmdb.csv', index=False)"
   ]
  },
  {
   "cell_type": "markdown",
   "metadata": {},
   "source": [
    "<a id='eda'></a>\n",
    "## Exploratory Data Analysis\n",
    "\n",
    "\n",
    "\n",
    "### Q1: How many movies have been released per year?"
   ]
  },
  {
   "cell_type": "code",
   "execution_count": 22,
   "metadata": {
    "scrolled": false
   },
   "outputs": [
    {
     "data": {
      "image/png": "[encoded data removed]",
      "text/plain": [
       "<matplotlib.figure.Figure at 0x1a1437e278>"
      ]
     },
     "metadata": {},
     "output_type": "display_data"
    }
   ],
   "source": [
    "# Shows the number of movies released per year.\n",
    "all_year_movie = df.groupby('year')['movie'].count()\n",
    "\n",
    "ax3= all_year_movie.plot(figsize=(10,5), y='Number of movies', x='Year', color= '#FF9933', title='Evolution of the number of movie released per year')\n",
    "\n",
    "# Turns off grid on the left Axis.\n",
    "ax3.grid(False)\n",
    "\n",
    "plt.legend();"
   ]
  },
  {
   "cell_type": "markdown",
   "metadata": {},
   "source": [
    "<font color='blue'>The number of movies released per year has been increasing. This is not surprising as there are more resources for the filmmakers (new technologies = more creativity, more innovation etc.)\n",
    "Thanks to the new technologies, it's easier and cheaper to make movies, and then distribute them.</font>"
   ]
  },
  {
   "cell_type": "markdown",
   "metadata": {},
   "source": [
    "### Q2: How are the profit versus the profit average trending over the years?"
   ]
  },
  {
   "cell_type": "code",
   "execution_count": 23,
   "metadata": {
    "collapsed": true,
    "scrolled": true
   },
   "outputs": [],
   "source": [
    "# Calculate profit\n",
    "all_year_profit = df.groupby('year')['revenue'].sum() - df.groupby('year')['budget'].sum()\n",
    "\n",
    "# Calculate profit avg\n",
    "all_year_profitavg = (df.groupby('year')['revenue'].sum() - df.groupby('year')['budget'].sum()) / df.groupby('year')['movie'].count()"
   ]
  },
  {
   "cell_type": "code",
   "execution_count": 24,
   "metadata": {
    "scrolled": true
   },
   "outputs": [
    {
     "data": {
      "image/png": "[encoded data removed]",
      "text/plain": [
       "<matplotlib.figure.Figure at 0x1a143af710>"
      ]
     },
     "metadata": {},
     "output_type": "display_data"
    }
   ],
   "source": [
    "fig = plt.figure() # Creates matplotlib figure\n",
    "\n",
    "ax = fig.add_subplot(111) # Creates matplotlib axes\n",
    "ax2 = ax.twinx() # Creates another axes that shares the same x-axis as ax.\n",
    "\n",
    "width = 0.4\n",
    "\n",
    "profit = all_year_profit.plot(kind='line', figsize=(10,5), ax=ax, label='Profit', title='Profit vs Profit AVG')\n",
    "profit_avg = all_year_profitavg.plot(kind='line', color= '#ff0000', figsize=(10,5), ax=ax2, label='Profit AVG')\n",
    "\n",
    "ax.set_ylabel('Profit')\n",
    "ax2.set_ylabel('Profit AVG')\n",
    "\n",
    "# Turns off grid on the left Axis.\n",
    "ax.grid(False)\n",
    "\n",
    "# Turns off grid on the secondary (right) Axis.\n",
    "ax2.grid(False)\n",
    "\n",
    "# Creates legend with labels.\n",
    "lines, labels = ax.get_legend_handles_labels()\n",
    "lines2, labels2 = ax2.get_legend_handles_labels()\n",
    "ax2.legend(lines + lines2, labels + labels2, loc=9)\n",
    "\n",
    "plt.show()"
   ]
  },
  {
   "cell_type": "markdown",
   "metadata": {},
   "source": [
    "<font color='blue'>Since there are more movies to be released over the years, the average of profit made is decreasing. </font>"
   ]
  },
  {
   "cell_type": "markdown",
   "metadata": {},
   "source": [
    "### Q3: What genre of movie is the most recurrent? "
   ]
  },
  {
   "cell_type": "code",
   "execution_count": 25,
   "metadata": {},
   "outputs": [
    {
     "data": {
      "text/plain": [
       "Drama          1980\n",
       "Comedy         1849\n",
       "Action         1334\n",
       "Horror          738\n",
       "Adventure       511\n",
       "Thriller        405\n",
       "Crime           341\n",
       "Animation       287\n",
       "Fantasy         225\n",
       "Documentary     225\n",
       "Name: genres, dtype: int64"
      ]
     },
     "execution_count": 25,
     "metadata": {},
     "output_type": "execute_result"
    }
   ],
   "source": [
    "# Counts the number of genres and how many times it's recurrent.\n",
    "# Returns the first value as we can consider the first genre is the main one.\n",
    "genre_count = df['genres']=df.genres.str.split('|', expand=True)[0]\n",
    "genre_count = df['genres'].value_counts().head(10)\n",
    "genre_count"
   ]
  },
  {
   "cell_type": "markdown",
   "metadata": {
    "collapsed": true
   },
   "source": [
    "<font color='blue'>There are more movies released in the Drama, Comedy, and Action genres. </font>"
   ]
  },
  {
   "cell_type": "code",
   "execution_count": 26,
   "metadata": {},
   "outputs": [
    {
     "data": {
      "text/plain": [
       "Text(0.5,1,'Repartition of genres')"
      ]
     },
     "execution_count": 26,
     "metadata": {},
     "output_type": "execute_result"
    },
    {
     "data": {
      "image/png": "[encoded data removed]",
      "text/plain": [
       "<matplotlib.figure.Figure at 0x1a144cc400>"
      ]
     },
     "metadata": {},
     "output_type": "display_data"
    }
   ],
   "source": [
    "# Shows the repartition of the genres with a pie chart.\n",
    "explode = np.linspace(0,0.4,10)\n",
    "colors = ['#336600', '#4C9900', '#66CC00','#00FF00', '#80FF00', '#99FF33', '#B2FF66', '#CCFF99', '#CCFFCC', '#E5FFCC']\n",
    "genre_count.sort_values(ascending=False).plot.pie(legend=False, subplots=True, autopct='%.2f%%', figsize=(8,8), explode=explode,colors = colors)\n",
    "plt.ylabel('')\n",
    "plt.title('Repartition of genres', weight='bold', fontsize=16)"
   ]
  },
  {
   "cell_type": "markdown",
   "metadata": {},
   "source": [
    "### Q4: What genre of movie drives the higher revenue and the higher profit? Are they the same?\n"
   ]
  },
  {
   "cell_type": "code",
   "execution_count": 27,
   "metadata": {
    "collapsed": true
   },
   "outputs": [],
   "source": [
    "# Formats revenue data\n",
    "df.revenue.astype(float)\n",
    "pd.options.display.float_format = '{:,.0f}'.format"
   ]
  },
  {
   "cell_type": "code",
   "execution_count": 28,
   "metadata": {
    "collapsed": true
   },
   "outputs": [],
   "source": [
    "# Imports dataset\n",
    "df = pd.read_csv('data_tmdb.csv')"
   ]
  },
  {
   "cell_type": "code",
   "execution_count": 29,
   "metadata": {
    "collapsed": true
   },
   "outputs": [],
   "source": [
    "# Calculates profit and adds new column into the dataset\n",
    "df['profit'] = df['revenue'] - df['budget']"
   ]
  },
  {
   "cell_type": "code",
   "execution_count": 30,
   "metadata": {},
   "outputs": [
    {
     "data": {
      "text/plain": [
       "Index(['id', 'movie', 'cast', 'director', 'keywords', 'genres', 'studio',\n",
       "       'dates', 'rating', 'year', 'budget', 'revenue', 'profit'],\n",
       "      dtype='object')"
      ]
     },
     "execution_count": 30,
     "metadata": {},
     "output_type": "execute_result"
    }
   ],
   "source": [
    "# Shows that the new column is well integrated to the dataset.\n",
    "df.columns"
   ]
  },
  {
   "cell_type": "code",
   "execution_count": 31,
   "metadata": {
    "collapsed": true
   },
   "outputs": [],
   "source": [
    "# Saves new clean datasets for next section\n",
    "df.to_csv('data_tmdb.csv', index=False)"
   ]
  },
  {
   "cell_type": "code",
   "execution_count": 32,
   "metadata": {
    "collapsed": true
   },
   "outputs": [],
   "source": [
    "# Extracts first value separated with pipes from the cell\n",
    "genre_profit = df['genres']=df.genres.str.split('|', expand=True)[0]"
   ]
  },
  {
   "cell_type": "code",
   "execution_count": 33,
   "metadata": {
    "scrolled": false
   },
   "outputs": [
    {
     "data": {
      "text/plain": [
       "genres\n",
       "Action            71,262,963,482\n",
       "Adventure         68,828,824,221\n",
       "Comedy            59,235,673,029\n",
       "Drama             55,854,046,482\n",
       "Animation         21,791,192,878\n",
       "Horror            15,399,531,420\n",
       "Fantasy           15,110,085,649\n",
       "Science Fiction   14,737,746,755\n",
       "Crime             11,601,007,455\n",
       "Thriller           8,657,520,825\n",
       "Family             8,299,495,770\n",
       "Romance            6,497,633,815\n",
       "Music              2,414,141,127\n",
       "Mystery            2,178,263,139\n",
       "History            1,870,703,792\n",
       "War                1,367,587,279\n",
       "Western              893,666,072\n",
       "Documentary          683,340,306\n",
       "TV Movie              34,943,339\n",
       "Foreign                        0\n",
       "Name: profit, dtype: float64"
      ]
     },
     "execution_count": 33,
     "metadata": {},
     "output_type": "execute_result"
    }
   ],
   "source": [
    "# Calculates profit per genre\n",
    "genre_profit = df.groupby('genres')['profit'].sum().sort_values(ascending=False)\n",
    "genre_profit"
   ]
  },
  {
   "cell_type": "code",
   "execution_count": 34,
   "metadata": {
    "collapsed": true
   },
   "outputs": [],
   "source": [
    "# In order to make sure that the above results are accurate, we're calculating the budget and revenue per genre.\n",
    "\n",
    "# Calculates budget per genre\n",
    "# genre_budget = df.groupby('genres')['budget'].sum().sort_values(ascending=False)\n",
    "\n",
    "# Calculates revenue per genre\n",
    "# genre_revenue = df.groupby('genres')['revenue'].sum().sort_values(ascending=False)\n",
    "\n",
    "#We can confirm the profit data are correct: action revenue-action budget = action profit"
   ]
  },
  {
   "cell_type": "code",
   "execution_count": 35,
   "metadata": {
    "collapsed": true
   },
   "outputs": [],
   "source": [
    "# New queries sorted by alphabetical order to build a chart .\n",
    "genre_count2 = df['genres']=df.genres.str.split('|', expand=True)[0]\n",
    "genre_count2 = df['genres'].value_counts()\n",
    "genre_count2.sort_index(inplace=True)"
   ]
  },
  {
   "cell_type": "code",
   "execution_count": 36,
   "metadata": {
    "collapsed": true,
    "scrolled": true
   },
   "outputs": [],
   "source": [
    "genre_profit2 = df['genres']=df.genres.str.split('|', expand=True)[0]\n",
    "genre_profit2 = df.groupby('genres')['profit'].sum()\n",
    "genre_profit2.sort_index(inplace=True)"
   ]
  },
  {
   "cell_type": "code",
   "execution_count": 37,
   "metadata": {
    "scrolled": false
   },
   "outputs": [
    {
     "data": {
      "image/png": "[encoded data removed]",
      "text/plain": [
       "<matplotlib.figure.Figure at 0x1a152e91d0>"
      ]
     },
     "metadata": {},
     "output_type": "display_data"
    }
   ],
   "source": [
    "fig = plt.figure() # Creates matplotlib figure\n",
    "\n",
    "ax = fig.add_subplot(111) # Creates matplotlib axes\n",
    "ax2 = ax.twinx() # Creates another axes that shares the same x-axis as ax.\n",
    "\n",
    "width = 0.4\n",
    "\n",
    "genre_count2.plot(figsize = (15,6), kind='bar', color='#FFB266', ax=ax, width=width, position=1, title='Number of movies per genre and revenue generated')\n",
    "genre_profit2.plot(figsize = (15,6), kind='bar', color='#66B2FF', ax=ax2, width=width, position=0)\n",
    "\n",
    "ax.set_ylabel('Count of genre')\n",
    "ax2.set_ylabel('Profit')\n",
    "\n",
    "# Turns off grid on the left Axis.\n",
    "ax.grid(False)\n",
    "\n",
    "# Turns off grid on the secondary (right) Axis.\n",
    "ax2.grid(False)\n",
    "\n",
    "ax.set_xticklabels(genre_count2.index, rotation=30)\n",
    "\n",
    "h1, l1 = ax.get_legend_handles_labels()\n",
    "h2, l2 = ax2.get_legend_handles_labels()\n",
    "\n",
    "plt.legend(h1+h2, l1+l2, loc=1)\n",
    "plt.show()\n"
   ]
  },
  {
   "cell_type": "markdown",
   "metadata": {},
   "source": [
    "<font color='blue'>While Drama is the most recurrent genre, the chart shows us that it's not the genre that drives the most profit. The action movies generate a higher profit. </font>"
   ]
  },
  {
   "cell_type": "markdown",
   "metadata": {},
   "source": [
    "### Q5: What movie generated the highest revenue and got the highest profit?"
   ]
  },
  {
   "cell_type": "code",
   "execution_count": 38,
   "metadata": {
    "scrolled": false
   },
   "outputs": [
    {
     "name": "stdout",
     "output_type": "stream",
     "text": [
      "             movie       revenue\n",
      "1014        Avatar 2,827,123,750\n",
      "7688          Jaws 1,907,005,842\n",
      "960      Star Wars 2,789,712,242\n",
      "8413  The Exorcist 2,167,324,901\n",
      "3911       Titanic 2,506,405,735\n"
     ]
    }
   ],
   "source": [
    "# Gives revenue per movie\n",
    "movie_revenue = df[['movie', 'revenue']].sort_values('revenue', ascending = False).head(5)\n",
    "movie_revenue.sort_values('movie',inplace=True)\n",
    "print(movie_revenue)"
   ]
  },
  {
   "cell_type": "code",
   "execution_count": 39,
   "metadata": {
    "scrolled": true
   },
   "outputs": [
    {
     "name": "stdout",
     "output_type": "stream",
     "text": [
      "             movie        profit\n",
      "1014        Avatar 2,586,236,848\n",
      "7688          Jaws 1,878,643,094\n",
      "960      Star Wars 2,750,136,651\n",
      "8413  The Exorcist 2,128,035,625\n",
      "3911       Titanic 2,234,713,671\n"
     ]
    }
   ],
   "source": [
    "# Gives profit per movie\n",
    "movie_profit = df[['movie', 'profit']].sort_values('profit', ascending = False).head(5)\n",
    "movie_profit.sort_values('movie',inplace=True)\n",
    "print(movie_profit)"
   ]
  },
  {
   "cell_type": "code",
   "execution_count": 40,
   "metadata": {},
   "outputs": [
    {
     "data": {
      "image/png": "[encoded data removed]",
      "text/plain": [
       "<matplotlib.figure.Figure at 0x1a0b07ce10>"
      ]
     },
     "metadata": {},
     "output_type": "display_data"
    }
   ],
   "source": [
    "fig = plt.figure() # Creates matplotlib figure\n",
    "\n",
    "ax = fig.add_subplot(111) # Creates matplotlib axes\n",
    "ax2 = ax.twinx() # Creates another axes that shares the same x-axis as ax.\n",
    "\n",
    "width = 0.4\n",
    "\n",
    "movie_revenue.plot(figsize = (10,6), kind='bar', color='#FFB266', ax=ax, width=width, position=1, title='Revenue and Profit for the 5 best movies')\n",
    "movie_profit.plot(figsize = (10,6), kind='bar', color='#66B2FF', ax=ax2, width=width, position=0)\n",
    "\n",
    "# Turns off grid on the left Axis.\n",
    "ax.grid(False)\n",
    "\n",
    "# Turns off grid on the secondary (right) Axis.\n",
    "ax2.grid(False)\n",
    "\n",
    "ax.set_ylabel('Revenue per movie')\n",
    "ax2.set_ylabel('Profit per movie')\n",
    "\n",
    "ax.set_xticklabels(movie_revenue[\"movie\"], rotation=30)\n",
    "\n",
    "h1, l1 = ax.get_legend_handles_labels()\n",
    "h2, l2 = ax2.get_legend_handles_labels()\n",
    "\n",
    "plt.legend(h1+h2, l1+l2, loc=1)\n",
    "plt.show()"
   ]
  },
  {
   "cell_type": "markdown",
   "metadata": {},
   "source": [
    "<font color='blue'> While Avatar generated the highest revenue, its profit is lower. This is also the case for Titanic. In addition, Star wars has the higher profit.</font>"
   ]
  },
  {
   "cell_type": "markdown",
   "metadata": {},
   "source": [
    "### Q6: Which keyword stands out among all of them? What does the revenue associated with the keyword look like?"
   ]
  },
  {
   "cell_type": "code",
   "execution_count": 41,
   "metadata": {},
   "outputs": [
    {
     "data": {
      "text/plain": [
       "new york          134\n",
       "based on novel    121\n",
       "sex               115\n",
       "london            108\n",
       "prison            107\n",
       "Name: keywords, dtype: int64"
      ]
     },
     "execution_count": 41,
     "metadata": {},
     "output_type": "execute_result"
    }
   ],
   "source": [
    "# Returns the first keyword of the cell and counts the recurrence.\n",
    "kw_count = df['keywords']=df.keywords.str.split('|', expand=True)[0]\n",
    "kw_count = df['keywords'].value_counts()\n",
    "kw_count.head()"
   ]
  },
  {
   "cell_type": "code",
   "execution_count": 43,
   "metadata": {},
   "outputs": [
    {
     "data": {
      "text/plain": [
       "['new york',\n",
       " 'based on novel',\n",
       " 'sex',\n",
       " 'london',\n",
       " 'prison',\n",
       " 'independent film',\n",
       " 'suicide',\n",
       " 'woman director',\n",
       " 'holiday',\n",
       " 'female nudity',\n",
       " 'paris',\n",
       " 'biography',\n",
       " 'sport',\n",
       " 'brother brother relationship',\n",
       " 'musical',\n",
       " 'corruption',\n",
       " 'gay',\n",
       " 'male nudity',\n",
       " 'father-son relationship',\n",
       " 'suspense',\n",
       " 'england',\n",
       " 'witch',\n",
       " 'monster',\n",
       " 'martial arts',\n",
       " 'competition',\n",
       " 'saving the world',\n",
       " 'rape',\n",
       " 'alcohol',\n",
       " 'detective',\n",
       " 'robbery',\n",
       " 'dancing',\n",
       " 'sheriff',\n",
       " 'california',\n",
       " 'usa',\n",
       " 'dc comics',\n",
       " 'vampire',\n",
       " 'world war ii',\n",
       " 'cia',\n",
       " 'high school',\n",
       " 'prostitute',\n",
       " 'africa',\n",
       " 'spy',\n",
       " 'jealousy',\n",
       " 'baseball',\n",
       " 'bomb',\n",
       " 'journalist',\n",
       " 'hotel',\n",
       " 'japan',\n",
       " 'baby',\n",
       " 'individual',\n",
       " 'mexico',\n",
       " 'american football',\n",
       " 'beach',\n",
       " 'assassin',\n",
       " 'duringcreditsstinger',\n",
       " 'italy',\n",
       " 'love triangle',\n",
       " 'sister sister relationship',\n",
       " 'dystopia',\n",
       " 'adultery',\n",
       " 'terror',\n",
       " 'chicago',\n",
       " 'secret',\n",
       " 'underdog',\n",
       " 'wife husband relationship',\n",
       " 'black people',\n",
       " 'terrorist',\n",
       " 'gambling',\n",
       " 'ocean',\n",
       " 'flying',\n",
       " 'san francisco',\n",
       " 'u.s. president',\n",
       " 'video game',\n",
       " 'fight',\n",
       " 'sequel',\n",
       " 'france',\n",
       " 'experiment',\n",
       " 'time travel',\n",
       " 'vietnam veteran',\n",
       " 'small town',\n",
       " 'infidelity',\n",
       " 'artificial intelligence',\n",
       " 'revenge',\n",
       " 'nurse',\n",
       " 'helicopter',\n",
       " 'murder',\n",
       " 'post-apocalyptic',\n",
       " 'submarine',\n",
       " 'island',\n",
       " 'parents kids relationship',\n",
       " 'magic',\n",
       " 'pornography',\n",
       " 'fire',\n",
       " 'dream',\n",
       " 'upper class',\n",
       " 'hostage',\n",
       " 'mutant',\n",
       " 'friendship',\n",
       " '1970s',\n",
       " 'college',\n",
       " 'halloween',\n",
       " 'marvel comic',\n",
       " 'casino',\n",
       " 'killing',\n",
       " 'child abuse',\n",
       " 'moon',\n",
       " 'android',\n",
       " 'undercover',\n",
       " 'civil war',\n",
       " 'riddle',\n",
       " 'amnesia',\n",
       " 'photographer',\n",
       " 'street gang',\n",
       " 'haunted house',\n",
       " 'germany',\n",
       " 'car race',\n",
       " 'supernatural',\n",
       " 'stand-up',\n",
       " 'date',\n",
       " 'scotland',\n",
       " 'prophecy',\n",
       " 'poison',\n",
       " 'christianity',\n",
       " 'police',\n",
       " 'cyborg',\n",
       " 'judge',\n",
       " 'ambush',\n",
       " 'gunslinger',\n",
       " 'comedian',\n",
       " 'waitress',\n",
       " 'taxi',\n",
       " 'venice',\n",
       " 'assassination',\n",
       " 'fbi',\n",
       " 'exotic island',\n",
       " 'southern u.s.',\n",
       " 'single parent',\n",
       " 'life and death',\n",
       " 'nudity',\n",
       " 'mother',\n",
       " 'indian',\n",
       " 'loss of lover',\n",
       " 'alien',\n",
       " 'future',\n",
       " 'texas',\n",
       " 'babysitter',\n",
       " 'horror',\n",
       " 'hitman',\n",
       " 'hero',\n",
       " 'love',\n",
       " 'coma',\n",
       " 'washington d.c.',\n",
       " 'berlin',\n",
       " 'tattoo',\n",
       " 'diving',\n",
       " 'sword',\n",
       " 'elves',\n",
       " 'hacker',\n",
       " 'schizophrenia',\n",
       " 'brother sister relationship',\n",
       " 'smoking',\n",
       " 'angel',\n",
       " 'mask',\n",
       " 'bank',\n",
       " 'hippie',\n",
       " 'gold',\n",
       " 'horse',\n",
       " 'clone',\n",
       " 'rebel',\n",
       " 'post traumatic stress  disorder',\n",
       " 'rock star',\n",
       " 'aftercreditsstinger',\n",
       " 'bounty hunter',\n",
       " 'gun',\n",
       " 'winter',\n",
       " 'sea',\n",
       " 'skateboarding',\n",
       " 'secret identity',\n",
       " 'women',\n",
       " 'remake',\n",
       " 'santa claus',\n",
       " 'exorcism',\n",
       " 'miami',\n",
       " 'zombies',\n",
       " 'transporter',\n",
       " 'roommate',\n",
       " 'spain',\n",
       " 'loss of son',\n",
       " 'technology',\n",
       " 'new love',\n",
       " 'new zealand',\n",
       " 'hunter',\n",
       " 'rap',\n",
       " 'circus',\n",
       " 'pixar animated short',\n",
       " 'suicide attempt',\n",
       " 'cold war',\n",
       " 'virgin',\n",
       " 'age difference',\n",
       " 'vietnam war',\n",
       " 'river',\n",
       " 'islam',\n",
       " 'monk',\n",
       " 'brazilian',\n",
       " 'hawaii',\n",
       " 'shakespeare',\n",
       " 'found footage',\n",
       " 'drug dealer',\n",
       " 'shyness',\n",
       " 'nasa',\n",
       " 'china',\n",
       " 'egypt',\n",
       " 'based on true story',\n",
       " 'cheating',\n",
       " 'space marine',\n",
       " 'rock and roll',\n",
       " 'depression',\n",
       " 'adolescence',\n",
       " 'canada',\n",
       " 'poker',\n",
       " 'sexuality',\n",
       " 'police brutality',\n",
       " 'loss of mother',\n",
       " 'war crimes',\n",
       " 'adventure',\n",
       " 'journalism',\n",
       " 'spacecraft',\n",
       " 'thriller',\n",
       " 'gore',\n",
       " 'dance',\n",
       " 'mercenary',\n",
       " 'lovesickness',\n",
       " 'library',\n",
       " 'stand up comedy',\n",
       " 'kidnapping',\n",
       " 'man vs machine',\n",
       " 'wheelchair',\n",
       " 'general',\n",
       " 'rome',\n",
       " 'con man',\n",
       " 'jazz',\n",
       " 'dracula',\n",
       " 'florida',\n",
       " 'chess',\n",
       " 'loss of family',\n",
       " 'world war i',\n",
       " 'boston',\n",
       " 'australia',\n",
       " 'ransom',\n",
       " 'restaurant',\n",
       " 'farewell',\n",
       " 'painter',\n",
       " 'television',\n",
       " \"love of one's life\",\n",
       " 'dual identity',\n",
       " 'fairy',\n",
       " 'extraterrestrial technology',\n",
       " 'cemetery',\n",
       " 'obsession',\n",
       " 'cop',\n",
       " 'sadistic',\n",
       " 'showdown',\n",
       " 'professor',\n",
       " 'montana',\n",
       " 'australian',\n",
       " 'muslim',\n",
       " 'investigation',\n",
       " 'bachelor',\n",
       " 'transvestism',\n",
       " 'deja vu',\n",
       " 'road trip',\n",
       " 'new york city',\n",
       " 'camping',\n",
       " 'inventor',\n",
       " 'female friendship',\n",
       " 'loss of father',\n",
       " 'police operation',\n",
       " 'becoming an adult',\n",
       " 'animation',\n",
       " 'boy',\n",
       " 'white house',\n",
       " 'lake',\n",
       " 'europe',\n",
       " 'secret agent',\n",
       " 'family relationships',\n",
       " 'cat',\n",
       " 'male friendship',\n",
       " 'romantic comedy',\n",
       " 'snake',\n",
       " 'queen',\n",
       " 'concert',\n",
       " 'double life',\n",
       " 'eroticism',\n",
       " 'slapstick',\n",
       " 'princess',\n",
       " 'israel',\n",
       " 'castle',\n",
       " 'mass murder',\n",
       " 'paranoia',\n",
       " 'isolation',\n",
       " 'teenager',\n",
       " 'superhero',\n",
       " 'drowning',\n",
       " 'clown',\n",
       " 'soul',\n",
       " 'loss of child',\n",
       " 'cheerleader',\n",
       " 'falsely accused person',\n",
       " 'blindness and impaired vision',\n",
       " 'new jersey',\n",
       " 'wedding vows',\n",
       " 'artist',\n",
       " 'underwear',\n",
       " 'dolphin',\n",
       " 'christmas',\n",
       " 'surfer',\n",
       " 'fairy tale',\n",
       " 'serial killer',\n",
       " 'cult',\n",
       " 'flying car',\n",
       " 'shark attack',\n",
       " 'friends',\n",
       " 'gorilla',\n",
       " 'poetry',\n",
       " 'ritual',\n",
       " \"new year's eve\",\n",
       " 'lover (female)',\n",
       " 'werewolf',\n",
       " 'homeless person',\n",
       " 'manager',\n",
       " 'atomic bomb',\n",
       " 'career',\n",
       " 'psychopath',\n",
       " 'adoption',\n",
       " 'fictional place',\n",
       " 'nanny',\n",
       " 'asylum',\n",
       " 'surfing',\n",
       " 'homosexuality',\n",
       " 'film producer',\n",
       " 'film making',\n",
       " 'lie',\n",
       " 'italian',\n",
       " 'comedy',\n",
       " 'book',\n",
       " 'classroom',\n",
       " 'central and south america',\n",
       " 'cave',\n",
       " 'music',\n",
       " 'transylvania',\n",
       " 'christian',\n",
       " 'slasher',\n",
       " 'hospital',\n",
       " 'based on tv series',\n",
       " 'disc jockey',\n",
       " 'fortune teller',\n",
       " 'torture',\n",
       " 'firemen',\n",
       " 'birthday',\n",
       " 'escape',\n",
       " 'bar',\n",
       " 'parody',\n",
       " 'spoof',\n",
       " 'nazis',\n",
       " 'airplane',\n",
       " 'wilderness',\n",
       " 'drug addiction',\n",
       " 'vatican',\n",
       " 'aids',\n",
       " 'hallucination',\n",
       " 'widow',\n",
       " 'holocaust',\n",
       " 'film director',\n",
       " 'supermarket',\n",
       " 'sexual obsession',\n",
       " 'slum',\n",
       " 'exploitation',\n",
       " 'dictator',\n",
       " 'prequel',\n",
       " 'best friend',\n",
       " 'confession',\n",
       " 'cuba',\n",
       " 'number in title',\n",
       " 'underground',\n",
       " 'sniper',\n",
       " 'japanese',\n",
       " 'resistance',\n",
       " 'tv show',\n",
       " 'lesbian',\n",
       " 'seduction',\n",
       " 'budapest',\n",
       " 'philosophy',\n",
       " 'underworld',\n",
       " 'mistake in person',\n",
       " 'predator',\n",
       " 'mayor',\n",
       " 'school',\n",
       " 'jane austen',\n",
       " 'crime fighter',\n",
       " 'overweight',\n",
       " 'swordplay',\n",
       " 'teleportation',\n",
       " 'skyscraper',\n",
       " 'handcuffs',\n",
       " 'airport',\n",
       " 'summer camp',\n",
       " 'indian territory',\n",
       " 'bible',\n",
       " 'black comedy',\n",
       " 'love at first sight',\n",
       " 'museum',\n",
       " 'country house',\n",
       " 'killer robot',\n",
       " 'country music',\n",
       " 'prisoner of war',\n",
       " 'motel',\n",
       " 'puppet',\n",
       " 'wolf',\n",
       " 'newspaper',\n",
       " 'owl',\n",
       " 'shotgun',\n",
       " 'sunrise',\n",
       " 'marriage',\n",
       " 'telepathy',\n",
       " 'ice',\n",
       " 'fish',\n",
       " 'factory',\n",
       " 'afghanistan',\n",
       " 'ku klux klan',\n",
       " 'trip',\n",
       " 'coverup',\n",
       " 'stewardess',\n",
       " 'pop',\n",
       " 'shower',\n",
       " 'climate change',\n",
       " 'new mexico',\n",
       " 'survival',\n",
       " 'holy grail',\n",
       " 'chocolate',\n",
       " 'indigenous',\n",
       " 'talent',\n",
       " 'strip club',\n",
       " 'curse',\n",
       " 'possession',\n",
       " 'soulmates',\n",
       " 'capitalism',\n",
       " 'los angeles',\n",
       " 'bullying',\n",
       " 'tyrannosaurus rex',\n",
       " 'alien life-form',\n",
       " 'liberation',\n",
       " 'shakespeare adaptation',\n",
       " 'identity',\n",
       " 'salesclerk',\n",
       " 'mouse',\n",
       " 'haunting',\n",
       " 'fishing',\n",
       " 'mountains',\n",
       " 'super powers',\n",
       " 'dragon',\n",
       " 'jupiter',\n",
       " 'dinosaur',\n",
       " 'gang',\n",
       " 'philadelphia',\n",
       " 'bowling',\n",
       " 'zoo',\n",
       " 'buddhism',\n",
       " 'stone age',\n",
       " 'war',\n",
       " 'ex-detainee',\n",
       " 'blackmail',\n",
       " 'bureaucracy',\n",
       " 'mars',\n",
       " 'mississippi',\n",
       " 'medicine',\n",
       " 'boat',\n",
       " 'space',\n",
       " 'film business',\n",
       " 'desperation',\n",
       " 'new orleans',\n",
       " 'middle east',\n",
       " 'lightning',\n",
       " 'horse race',\n",
       " 'cinderella',\n",
       " 'mickey mouse',\n",
       " 'hip-hop',\n",
       " 'mythology',\n",
       " 'step father',\n",
       " 'childhood memory',\n",
       " 'drug traffic',\n",
       " 'auction',\n",
       " 'prisoner',\n",
       " 'killer',\n",
       " 'daughter',\n",
       " 'senate',\n",
       " 'coffin',\n",
       " 'aunt',\n",
       " 'cannibal',\n",
       " 'decision',\n",
       " 'greek mythology',\n",
       " 'squirrel',\n",
       " 'horseback riding',\n",
       " 'leprechaun',\n",
       " 'pimp',\n",
       " 'bicycle',\n",
       " 'self-defense',\n",
       " 'children',\n",
       " 'camcorder',\n",
       " 'punk',\n",
       " 'autism',\n",
       " 'family',\n",
       " 'secret organization',\n",
       " 'yacht',\n",
       " 'virtual reality',\n",
       " 'ballet dancer',\n",
       " 'secret passage',\n",
       " 'mobster',\n",
       " 'based on graphic novel',\n",
       " 'church choir',\n",
       " 'missionary',\n",
       " 'bear',\n",
       " 'guitar',\n",
       " 'mother daughter relationship',\n",
       " 'telekinesis',\n",
       " 'earth',\n",
       " 'gladiator',\n",
       " 'drama',\n",
       " 'nun',\n",
       " 'blind date',\n",
       " 'bodyguard',\n",
       " 'repayment',\n",
       " 'ninjas',\n",
       " 'nightmare',\n",
       " 'heavy metal',\n",
       " 'anthology',\n",
       " 'taxi driver',\n",
       " 'sexual abuse',\n",
       " 'jesus christ',\n",
       " 'live concert',\n",
       " 'free love',\n",
       " 'graduation',\n",
       " 'coming of age',\n",
       " 'blaxploitation',\n",
       " 'white trash',\n",
       " 'fighter pilot',\n",
       " 'tv movie',\n",
       " 'death of a friend',\n",
       " 'horror spoof',\n",
       " 'mission of murder',\n",
       " 'ecstasy',\n",
       " 'in love with enemy',\n",
       " 'revolution',\n",
       " 'child prodigy',\n",
       " 'brain',\n",
       " 'pregnancy and birth',\n",
       " 'jurors',\n",
       " 'cataclysm',\n",
       " 'roman empire',\n",
       " 'secret society',\n",
       " 'architect',\n",
       " 'cartoon',\n",
       " 'series of murders',\n",
       " 'politics',\n",
       " 'nevada',\n",
       " 'stuntman',\n",
       " 'relationship problems',\n",
       " 'immigrant',\n",
       " 'child murderer',\n",
       " 'court case',\n",
       " 'north carolina',\n",
       " 'legend',\n",
       " 'asteroid',\n",
       " 'dancing master',\n",
       " 'wedding',\n",
       " 'department store',\n",
       " 'kingdom',\n",
       " 'wound',\n",
       " 'sherlock holmes',\n",
       " 'juvenile prison',\n",
       " 'whale',\n",
       " 'moses',\n",
       " 'pop star',\n",
       " 'big family',\n",
       " 'housewife',\n",
       " 'detective inspector',\n",
       " 'swimming pool',\n",
       " 'fan',\n",
       " 'fistfight',\n",
       " 'grizzly bear',\n",
       " 'anti terror',\n",
       " 'alcoholism',\n",
       " 'pilot',\n",
       " 'prince',\n",
       " 'surrealism',\n",
       " 'vietnam',\n",
       " 'heist',\n",
       " 'pop culture',\n",
       " 'ventriloquist',\n",
       " 'success',\n",
       " 'louisiana',\n",
       " 'train station',\n",
       " 'brothel',\n",
       " 'bollywood',\n",
       " 'daily life',\n",
       " 'house',\n",
       " 'profession',\n",
       " 'street race',\n",
       " 'ladykiller',\n",
       " 'industrialist',\n",
       " 'hotel room',\n",
       " 'paradise',\n",
       " 'clock tower',\n",
       " 'gangster boss',\n",
       " 'kung fu',\n",
       " 'space battle',\n",
       " 'married couple',\n",
       " 'invasion',\n",
       " 'puppy',\n",
       " 'sports car',\n",
       " 'education',\n",
       " 'musician',\n",
       " 'german',\n",
       " 'dog',\n",
       " 'cocaine',\n",
       " 'insane asylum',\n",
       " 'sword fight',\n",
       " 'bartender',\n",
       " 'refugee',\n",
       " 'fantasy',\n",
       " 'lovers',\n",
       " 'experiment with human beings',\n",
       " 'trainer',\n",
       " 'based on video game',\n",
       " 'viking',\n",
       " 'two word title',\n",
       " 'russia',\n",
       " 'countryside',\n",
       " 'cabin',\n",
       " 'flower',\n",
       " 'amputation',\n",
       " 'sister',\n",
       " 'surgeon',\n",
       " 'celebrity',\n",
       " 'sacrifice',\n",
       " 'fast food restaurant',\n",
       " 'dialogue',\n",
       " 'end of the world',\n",
       " 'tradition',\n",
       " 'stadium',\n",
       " 'mummy',\n",
       " 'space opera',\n",
       " 'music record',\n",
       " 'runaway',\n",
       " 'race against time',\n",
       " 'climbing',\n",
       " 'ship',\n",
       " 'brain tumor',\n",
       " 'mistaken identity',\n",
       " 'cabaret',\n",
       " 'toronto',\n",
       " 'mathematician',\n",
       " 'loss of husband',\n",
       " 'ghost',\n",
       " 'pregnancy',\n",
       " 'widower',\n",
       " 'party',\n",
       " 'golf',\n",
       " 'fox',\n",
       " 'vulkan',\n",
       " 'tzar',\n",
       " \"girls' boarding school\",\n",
       " 'saloon',\n",
       " 'hades',\n",
       " 'historical figure',\n",
       " 'bunker',\n",
       " 'traitor',\n",
       " 'sense of guilt',\n",
       " 'memory loss',\n",
       " 'pub',\n",
       " 'duke',\n",
       " 'road movie',\n",
       " 'napoleon bonaparte',\n",
       " 'satellite',\n",
       " 'amateur detective',\n",
       " 'olympic games',\n",
       " 'war veteran',\n",
       " 'board game',\n",
       " 'sheep',\n",
       " 'disgust',\n",
       " 'chain',\n",
       " 'ukraine',\n",
       " 'first time',\n",
       " 'secret love',\n",
       " 'son',\n",
       " 'letter',\n",
       " 'monaco',\n",
       " 'chicken',\n",
       " 'regret',\n",
       " 'engagement',\n",
       " 'sexual identity',\n",
       " 'wyoming',\n",
       " 'bloodthirstiness',\n",
       " 'h.p. lovecraft',\n",
       " 'pet',\n",
       " 'penguin',\n",
       " 'earthquake',\n",
       " 'on the run',\n",
       " 'oxygen',\n",
       " 'manchester city',\n",
       " 'rain',\n",
       " 'deception',\n",
       " 'stalker',\n",
       " 'missile',\n",
       " 'commercial',\n",
       " 'ex-lover',\n",
       " 'bare knuckle boxing',\n",
       " 'shipwreck',\n",
       " 'ohio',\n",
       " 'crucifixion',\n",
       " 'baltimore',\n",
       " 'attempted murder',\n",
       " 'staatsanwÃ¤ltin',\n",
       " 'family secrets',\n",
       " 'toy',\n",
       " 'gangster',\n",
       " 'religion and supernatural',\n",
       " 'robin hood',\n",
       " 'ambulance',\n",
       " 'anti hero',\n",
       " 'bank robber',\n",
       " 'minnesota',\n",
       " 'parking garage',\n",
       " 'overweight child',\n",
       " 'money delivery',\n",
       " 'temple',\n",
       " 'homicide',\n",
       " 'home',\n",
       " 'cairo',\n",
       " 'running',\n",
       " 'heroin',\n",
       " 'beautiful woman',\n",
       " 'porno star',\n",
       " 'weekend',\n",
       " 'communist',\n",
       " 'one-night stand',\n",
       " 'neighbor',\n",
       " 'interview',\n",
       " 'heart',\n",
       " 'comet',\n",
       " 'siblings',\n",
       " 'freddy krueger',\n",
       " 'mother role',\n",
       " 'sex addiction',\n",
       " 'trauma',\n",
       " 'womanizer',\n",
       " 'gang war',\n",
       " 'galaxy',\n",
       " 'guerilla',\n",
       " 'death of a child',\n",
       " 'tennis',\n",
       " 'west virginia',\n",
       " 'stop motion animation',\n",
       " 'car journey',\n",
       " 'ax',\n",
       " 'hypnosis',\n",
       " 'coming out',\n",
       " 'medium',\n",
       " 'animal horror',\n",
       " 'undead',\n",
       " 'prohibition',\n",
       " 'epilepsy',\n",
       " 'nerd',\n",
       " 'sadness',\n",
       " 'butcher',\n",
       " 'tourist',\n",
       " 'from rags to riches',\n",
       " 'paleontology',\n",
       " 'megacity',\n",
       " 'border patrol',\n",
       " 'flooding',\n",
       " 'writer',\n",
       " 'cyberpunk',\n",
       " 'places and planets',\n",
       " 'starships',\n",
       " 'self-fulfilling prophecy',\n",
       " 'cooking',\n",
       " 'deafness',\n",
       " 'claustrophobia',\n",
       " 'theatre play',\n",
       " 'materialism',\n",
       " 'spanking',\n",
       " 'screenplay',\n",
       " 'loss of parents',\n",
       " 'operation',\n",
       " 'brazil',\n",
       " 'pickpocket',\n",
       " 'war on drugs',\n",
       " 'support group',\n",
       " 'chance',\n",
       " 'evidence',\n",
       " 'colorado',\n",
       " 'mission',\n",
       " 'dynamite',\n",
       " 'greed',\n",
       " 'kids and family',\n",
       " 'jack the ripper',\n",
       " 'human being-animal relationship',\n",
       " 'violent husband',\n",
       " 'conspiracy of murder',\n",
       " 'train',\n",
       " 'press',\n",
       " 'kidnapper',\n",
       " 'diner',\n",
       " 'elephant',\n",
       " 'basement',\n",
       " 'apache',\n",
       " 'highway',\n",
       " 'twin sister',\n",
       " 'romance',\n",
       " 'bounty',\n",
       " 'michigan',\n",
       " 'vegetarian',\n",
       " 'tarzan',\n",
       " 'yakuza',\n",
       " 'great britain',\n",
       " 'bad smell',\n",
       " 'sailboat',\n",
       " 'blood splatter',\n",
       " 'night life',\n",
       " 'servant',\n",
       " 'growing up',\n",
       " 'therapist',\n",
       " 'american dream',\n",
       " 'palace',\n",
       " 'fascism',\n",
       " 'boxer',\n",
       " 'christmas tree',\n",
       " 'weather',\n",
       " 'writing',\n",
       " 'concentration camp',\n",
       " 'maze',\n",
       " 'matchmaking',\n",
       " 'defense industry',\n",
       " 'gotham city',\n",
       " 'grandfather',\n",
       " 'mystery',\n",
       " 'father',\n",
       " 'self-destruction',\n",
       " 'menace',\n",
       " 'criminal',\n",
       " 'pastor',\n",
       " 'lunatic asylum',\n",
       " 'totalitarian regime',\n",
       " 'undercover agent',\n",
       " 'suspicion of murder',\n",
       " 'record store',\n",
       " 'loss of brother',\n",
       " 'cinema',\n",
       " 'recruit',\n",
       " 'difficult childhood',\n",
       " 'vandalism',\n",
       " 'captain',\n",
       " 'treasure',\n",
       " 'ice age',\n",
       " 'one word title',\n",
       " 'hollywood',\n",
       " 'babysitting',\n",
       " 'transplantation',\n",
       " 'baseball bat',\n",
       " 'diary',\n",
       " 'dying and death',\n",
       " 'belgium',\n",
       " 'federation',\n",
       " 'riot',\n",
       " 'bungee-jump',\n",
       " 'stalking',\n",
       " 'dancer',\n",
       " 'boarding school',\n",
       " 'afterlife',\n",
       " 'voodoo',\n",
       " 'loser',\n",
       " 'ex-girlfriend',\n",
       " 'agoraphobia',\n",
       " 'dark comedy',\n",
       " 'distrust',\n",
       " 'talk show',\n",
       " 'business man',\n",
       " 'hitchhiker',\n",
       " 'farm life',\n",
       " 'doctor',\n",
       " 'hoodlum',\n",
       " 'tree',\n",
       " 'panic',\n",
       " 'destroy',\n",
       " 'star',\n",
       " 'car crash',\n",
       " 'junkie',\n",
       " 'show business',\n",
       " 'soccer',\n",
       " 'mining',\n",
       " 'fighter',\n",
       " 'space travel',\n",
       " 'costume',\n",
       " 'glasgow',\n",
       " 'grandmother granddaughter relationship',\n",
       " 'intelligence',\n",
       " 'stranded',\n",
       " 'internet',\n",
       " 'sports team',\n",
       " 'hooligan',\n",
       " 'peasant',\n",
       " 'pirate',\n",
       " 'kiss',\n",
       " 'gunshot wound',\n",
       " 'crusade',\n",
       " 'wife',\n",
       " 'british',\n",
       " 'bus',\n",
       " 'flat',\n",
       " 'cold',\n",
       " 'conspiracy theory',\n",
       " 'homophobia',\n",
       " 'arranged marriage',\n",
       " 'rodeo',\n",
       " 'witness protection',\n",
       " 'phobia',\n",
       " 'death penalty',\n",
       " 'gypsy',\n",
       " 'us army',\n",
       " 'mental breakdown',\n",
       " 'return',\n",
       " 'military base',\n",
       " 'white russian',\n",
       " 'alter ego',\n",
       " 'divorce',\n",
       " 'dwarves',\n",
       " 'genetics',\n",
       " 'law',\n",
       " 'deep sea',\n",
       " 'psychoanalysis',\n",
       " 'crematorium',\n",
       " 'crime solving',\n",
       " 'garage',\n",
       " 'god',\n",
       " 'bird',\n",
       " 'frankenstein',\n",
       " 'shelter',\n",
       " 'chase',\n",
       " 'emperor',\n",
       " 'water monster',\n",
       " 'paraplegic',\n",
       " 'subway',\n",
       " 'marriage proposal',\n",
       " 'based on cartoon',\n",
       " 'forbidden love',\n",
       " 'illinois',\n",
       " 'magician performance',\n",
       " 'the rapture',\n",
       " 'arbitrary law',\n",
       " 'train accident',\n",
       " 'infection',\n",
       " 'movie in movie',\n",
       " 'hairdresser',\n",
       " 'career woman',\n",
       " 'radio station',\n",
       " 'car chase',\n",
       " 'dna',\n",
       " 'inquisition',\n",
       " 'pedophilia',\n",
       " \"children's book\",\n",
       " 'rookie cop',\n",
       " 'human evolution',\n",
       " 'making of',\n",
       " 'short',\n",
       " 'based on play',\n",
       " 'shootout',\n",
       " 'barbie',\n",
       " 'girlfriend',\n",
       " 'confidence',\n",
       " 'mental institution',\n",
       " 'puberty',\n",
       " 'midlife crisis',\n",
       " 'possessed',\n",
       " 'dysfunctional family',\n",
       " 'suitcase',\n",
       " 'atlanta',\n",
       " 'gulf war',\n",
       " 'provence',\n",
       " 'wealth',\n",
       " 'evil',\n",
       " 'university',\n",
       " 'government',\n",
       " 'love letter',\n",
       " 'norway',\n",
       " 'cook',\n",
       " 'jules verne',\n",
       " 'inspector',\n",
       " 'amsterdam',\n",
       " 'burglar',\n",
       " 'pistol',\n",
       " ...]"
      ]
     },
     "execution_count": 43,
     "metadata": {},
     "output_type": "execute_result"
    }
   ],
   "source": [
    "# Returns the list of keywords to fill in the wordcloud.\n",
    "kw_list = df['keywords']=df.keywords.str.split('|', expand=True)[0]\n",
    "kw_list = df['keywords'].value_counts().index.tolist()\n",
    "kw_list"
   ]
  },
  {
   "cell_type": "code",
   "execution_count": 44,
   "metadata": {
    "scrolled": true
   },
   "outputs": [
    {
     "data": {
      "text/plain": [
       "keywords\n",
       "saving the world   14,957,899,075\n",
       "based on novel     13,002,152,525\n",
       "london             10,229,374,594\n",
       "new york            8,886,577,718\n",
       "paris               7,917,745,167\n",
       "Name: revenue, dtype: float64"
      ]
     },
     "execution_count": 44,
     "metadata": {},
     "output_type": "execute_result"
    }
   ],
   "source": [
    "# Returns the revenue associated by keyword.\n",
    "kw_revenue = df.groupby('keywords')['revenue'].sum().sort_values(ascending=False)\n",
    "kw_revenue.head()"
   ]
  },
  {
   "cell_type": "code",
   "execution_count": 45,
   "metadata": {},
   "outputs": [
    {
     "data": {
      "image/png": "[encoded data removed]",
      "text/plain": [
       "<matplotlib.figure.Figure at 0x1a1530dba8>"
      ]
     },
     "metadata": {},
     "output_type": "display_data"
    },
    {
     "data": {
      "image/png": "[encoded data removed]",
      "text/plain": [
       "<matplotlib.figure.Figure at 0x1a1530df98>"
      ]
     },
     "metadata": {},
     "output_type": "display_data"
    }
   ],
   "source": [
    "from subprocess import check_output\n",
    "from wordcloud import WordCloud, ImageColorGenerator\n",
    "from PIL import Image\n",
    "from os import path\n",
    "import csv\n",
    "\n",
    "from collections import defaultdict\n",
    "import locale\n",
    "locale.setlocale(locale.LC_ALL, '')\n",
    "\n",
    "# mpl.rcParams['figure.figsize']=(8.0,6.0)   \n",
    "mpl.rcParams['font.size']=12                \n",
    "mpl.rcParams['savefig.dpi']=100              \n",
    "mpl.rcParams['figure.subplot.bottom']=.1 \n",
    "\n",
    "round_mask = np.array(Image.open(\"mask.png\"))\n",
    "df = pd.read_csv('data_tmdb.csv')\n",
    "\n",
    "wordcloud = WordCloud(\n",
    "                          background_color='white',\n",
    "                          mask=round_mask,\n",
    "                          max_words=50,\n",
    "                          max_font_size=70, \n",
    "                          random_state=42\n",
    "                         ).generate(' '.join(kw_list))\n",
    "\n",
    "# Store to file\n",
    "wordcloud.to_file(path.join(\"generatedwc.png\"))\n",
    "\n",
    "plt.imshow(wordcloud, interpolation='bilinear')\n",
    "plt.axis(\"off\")\n",
    "plt.figure()\n",
    "plt.axis(\"off\")\n",
    "plt.show()"
   ]
  },
  {
   "cell_type": "markdown",
   "metadata": {},
   "source": [
    "<font color='blue'> What's surprising is none of the 5 most recurrent keywords (even driving the most revenue) are associated to the 5 best movies. However, we can point out that we return only the first keyword of the cell and not all of them.</font>"
   ]
  },
  {
   "cell_type": "markdown",
   "metadata": {},
   "source": [
    "### Q7: Who are the most and least profitable actors?"
   ]
  },
  {
   "cell_type": "code",
   "execution_count": 46,
   "metadata": {},
   "outputs": [
    {
     "data": {
      "text/plain": [
       "cast\n",
       "Tom Hanks            7,717,644,751\n",
       "Tom Cruise           7,376,906,425\n",
       "Harrison Ford        6,546,580,999\n",
       "Sean Connery         5,126,339,565\n",
       "Sylvester Stallone   4,486,906,503\n",
       "Sandra Bullock       4,367,334,596\n",
       "Will Smith           4,210,883,386\n",
       "Johnny Depp          4,036,354,456\n",
       "Ben Stiller          4,026,603,470\n",
       "Bruce Willis         3,792,761,142\n",
       "Name: profit, dtype: float64"
      ]
     },
     "execution_count": 46,
     "metadata": {},
     "output_type": "execute_result"
    }
   ],
   "source": [
    "# Returns the profit generated per actor.\n",
    "actor_most_profit = df['cast']=df.cast.str.split('|', expand=True)[0]\n",
    "actor_most_profit = df.groupby('cast')['profit'].sum().where(df.groupby('cast')['movie'].count() > 14).sort_values(ascending=False)\n",
    "actor_most_profit.head(10)"
   ]
  },
  {
   "cell_type": "code",
   "execution_count": 47,
   "metadata": {},
   "outputs": [
    {
     "data": {
      "text/plain": [
       "cast\n",
       "Vincent Price            10,613,378\n",
       "Ethan Hawke              97,556,825\n",
       "Michael Caine            98,148,308\n",
       "Colin Farrell           138,853,541\n",
       "Samuel L. Jackson       199,066,515\n",
       "Steven Seagal           204,437,075\n",
       "Jason Statham           219,642,538\n",
       "John Wayne              230,566,629\n",
       "Chevy Chase             292,284,661\n",
       "Jean-Claude Van Damme   296,133,797\n",
       "Name: profit, dtype: float64"
      ]
     },
     "execution_count": 47,
     "metadata": {},
     "output_type": "execute_result"
    }
   ],
   "source": [
    "actor_least_profit = df['cast']=df.cast.str.split('|', expand=True)[0]\n",
    "actor_least_profit = df.groupby('cast')['profit'].sum().where(df.groupby('cast')['movie'].count() > 14).sort_values(ascending=True)\n",
    "actor_least_profit.head(10)"
   ]
  },
  {
   "cell_type": "code",
   "execution_count": 48,
   "metadata": {},
   "outputs": [
    {
     "data": {
      "text/plain": [
       "cast\n",
       "Nicolas Cage          48\n",
       "Robert De Niro        39\n",
       "Bruce Willis          39\n",
       "Clint Eastwood        38\n",
       "Tom Hanks             37\n",
       "Johnny Depp           37\n",
       "Sylvester Stallone    33\n",
       "Denzel Washington     33\n",
       "John Travolta         33\n",
       "Tom Cruise            31\n",
       "Name: movie, dtype: int64"
      ]
     },
     "execution_count": 48,
     "metadata": {},
     "output_type": "execute_result"
    }
   ],
   "source": [
    "# Returns the number of movie per actor.\n",
    "movie_per_actor = df['cast']=df.cast.str.split('|', expand=True)[0]\n",
    "movie_per_actor = df.groupby('cast')['movie'].count().sort_values(ascending=False)\n",
    "movie_per_actor.head(10)"
   ]
  },
  {
   "cell_type": "code",
   "execution_count": 49,
   "metadata": {},
   "outputs": [
    {
     "data": {
      "text/plain": [
       "cast\n",
       "Will Smith       263,180,212\n",
       "Tom Cruise       237,964,723\n",
       "Harrison Ford    233,806,464\n",
       "Tom Hanks        208,584,993\n",
       "Sean Connery     183,083,556\n",
       "Sandra Bullock   181,972,275\n",
       "Elijah Wood      172,457,717\n",
       "Ben Stiller      167,775,145\n",
       "Jim Carrey       150,937,832\n",
       "Julia Roberts    148,520,885\n",
       "dtype: float64"
      ]
     },
     "execution_count": 49,
     "metadata": {},
     "output_type": "execute_result"
    }
   ],
   "source": [
    "# Returns the profit average per actor.\n",
    "profitavg_per_actor = (actor_most_profit / movie_per_actor ).sort_values(ascending=False).head(10)\n",
    "profitavg_per_actor"
   ]
  },
  {
   "cell_type": "code",
   "execution_count": 50,
   "metadata": {},
   "outputs": [
    {
     "data": {
      "text/plain": [
       "Text(0.5,1,'Repartition of the profit avg per actor')"
      ]
     },
     "execution_count": 50,
     "metadata": {},
     "output_type": "execute_result"
    },
    {
     "data": {
      "image/png": "[encoded data removed]",
      "text/plain": [
       "<matplotlib.figure.Figure at 0x1a152926a0>"
      ]
     },
     "metadata": {},
     "output_type": "display_data"
    }
   ],
   "source": [
    "# Shows the repartition of the profit average per actor with a pie chart.\n",
    "explode = np.linspace(0,0.4,10)\n",
    "colors = ['#336600', '#4C9900', '#66CC00','#00FF00', '#80FF00', '#99FF33', '#B2FF66', '#CCFF99', '#CCFFCC', '#E5FFCC']\n",
    "profitavg_per_actor.sort_values(ascending=False).plot.pie(legend=False, subplots=True, autopct='%.2f%%', figsize=(8,8), explode=explode,colors = colors)\n",
    "plt.ylabel('')\n",
    "plt.title('Repartition of the profit avg per actor', weight='bold', fontsize=16)"
   ]
  },
  {
   "cell_type": "markdown",
   "metadata": {},
   "source": [
    "<font color='blue'> Most of the actors who have generated the highest revenues are also the ones who have the higher revenue average. \n",
    "It's interesting to notice that Harisson Ford, who is in the list, played in one of the 5 best movies: Star Wars.\n",
    "It makes sense because all actors included in the list are pretty 'young' and 3 of the best movies have been released in the 70's.</font>"
   ]
  },
  {
   "cell_type": "markdown",
   "metadata": {},
   "source": [
    "### Q8: What studios were the most and the least profitable in 2015?"
   ]
  },
  {
   "cell_type": "code",
   "execution_count": 51,
   "metadata": {
    "collapsed": true
   },
   "outputs": [],
   "source": [
    "# Returns the profit generated per studios in 2015.\n",
    "studio_most_profit = df['studio']=df.studio.str.split('|', expand=True)[0]"
   ]
  },
  {
   "cell_type": "code",
   "execution_count": 52,
   "metadata": {},
   "outputs": [
    {
     "data": {
      "text/plain": [
       "studio\n",
       "Universal Pictures                       2,853,667,446\n",
       "Lucasfilm                                1,731,238,382\n",
       "Twentieth Century Fox Film Corporation   1,455,479,523\n",
       "Marvel Studios                           1,392,546,283\n",
       "Paramount Pictures                       1,322,736,610\n",
       "Columbia Pictures                        1,278,480,701\n",
       "Universal Studios                        1,254,445,953\n",
       "Walt Disney Pictures                     1,239,912,744\n",
       "New Line Cinema                            708,114,662\n",
       "Regency Enterprises                        581,169,316\n",
       "Name: profit, dtype: float64"
      ]
     },
     "execution_count": 52,
     "metadata": {},
     "output_type": "execute_result"
    }
   ],
   "source": [
    "studio_most_profit = df.loc[df['year'] == 2015]\n",
    "studio_most_profit = studio_most_profit.groupby('studio')['profit'].sum().sort_values(ascending=False).head(10)\n",
    "studio_most_profit"
   ]
  },
  {
   "cell_type": "code",
   "execution_count": 53,
   "metadata": {},
   "outputs": [
    {
     "data": {
      "text/plain": [
       "Text(0.5,1,'Most profitable studios')"
      ]
     },
     "execution_count": 53,
     "metadata": {},
     "output_type": "execute_result"
    },
    {
     "data": {
      "image/png": "[encoded data removed]",
      "text/plain": [
       "<matplotlib.figure.Figure at 0x1a15070630>"
      ]
     },
     "metadata": {},
     "output_type": "display_data"
    }
   ],
   "source": [
    "# Displays the repartition of the most profitable studios with a pie chart.\n",
    "explode = np.linspace(0,0.4,10)\n",
    "colors = ['#336600', '#4C9900', '#66CC00','#00FF00', '#80FF00', '#99FF33', '#B2FF66', '#CCFF99', '#CCFFCC', '#E5FFCC']\n",
    "studio_most_profit.sort_values(ascending=False).plot.pie(legend=False, subplots=True, autopct='%.2f%%', figsize=(8,8), explode=explode,colors = colors)\n",
    "plt.ylabel('')\n",
    "plt.title('Most profitable studios', weight='bold', fontsize=16)"
   ]
  },
  {
   "cell_type": "code",
   "execution_count": 54,
   "metadata": {
    "collapsed": true
   },
   "outputs": [],
   "source": [
    "studio_least_profit = df['studio']=df.studio.str.split('|', expand=True)[0]"
   ]
  },
  {
   "cell_type": "code",
   "execution_count": 55,
   "metadata": {},
   "outputs": [
    {
     "data": {
      "text/plain": [
       "studio\n",
       "Happy Madison Productions        -55,199,976\n",
       "Current Entertainment            -27,599,988\n",
       "K. JAM Media                     -23,919,989\n",
       "StudioCanal                      -22,183,287\n",
       "British Film Institute (BFI)     -19,319,991\n",
       "Paul Schiff Productions          -18,399,992\n",
       "Nu Image Films                   -18,399,992\n",
       "The Safran Company               -18,399,992\n",
       "Denver and Delilah Productions   -18,208,091\n",
       "Benaroya Pictures                -13,799,994\n",
       "Name: profit, dtype: float64"
      ]
     },
     "execution_count": 55,
     "metadata": {},
     "output_type": "execute_result"
    }
   ],
   "source": [
    "studio_least_profit = df.loc[df['year'] == 2015]\n",
    "studio_least_profit = studio_least_profit.groupby('studio')['profit'].sum().sort_values(ascending=True).head(10)\n",
    "studio_least_profit"
   ]
  },
  {
   "cell_type": "code",
   "execution_count": 56,
   "metadata": {
    "scrolled": true
   },
   "outputs": [
    {
     "data": {
      "text/plain": [
       "studio\n",
       "Universal Pictures                        428\n",
       "Paramount Pictures                        412\n",
       "Columbia Pictures                         266\n",
       "Twentieth Century Fox Film Corporation    231\n",
       "New Line Cinema                           195\n",
       "Walt Disney Pictures                      189\n",
       "Warner Bros.                              165\n",
       "Miramax Films                             129\n",
       "TriStar Pictures                          120\n",
       "Columbia Pictures Corporation             115\n",
       "Name: movie, dtype: int64"
      ]
     },
     "execution_count": 56,
     "metadata": {},
     "output_type": "execute_result"
    }
   ],
   "source": [
    "# Returns the number of movies released per studio.\n",
    "movie_per_studios=df.groupby('studio')['movie'].nunique().sort_values(ascending=False)[0:10]\n",
    "movie_per_studios"
   ]
  },
  {
   "cell_type": "code",
   "execution_count": 57,
   "metadata": {},
   "outputs": [
    {
     "data": {
      "text/plain": [
       "Text(0.5,1,'Repartition of the number of movies released per studio')"
      ]
     },
     "execution_count": 57,
     "metadata": {},
     "output_type": "execute_result"
    },
    {
     "data": {
      "image/png": "[encoded data removed]",
      "text/plain": [
       "<matplotlib.figure.Figure at 0x1a142b6518>"
      ]
     },
     "metadata": {},
     "output_type": "display_data"
    }
   ],
   "source": [
    "# Shows the repartition of the number of movies released per studio with a pie chart.\n",
    "explode = np.linspace(0,0.4,10)\n",
    "colors = ['#336600', '#4C9900', '#66CC00','#00FF00', '#80FF00', '#99FF33', '#B2FF66', '#CCFF99', '#CCFFCC', '#E5FFCC']\n",
    "movie_per_studios.sort_values(ascending=False).plot.pie(legend=False, subplots=True, autopct='%.2f%%', figsize=(8,8), explode=explode,colors = colors)\n",
    "plt.ylabel('')\n",
    "plt.title('Repartition of the number of movies released per studio', weight='bold', fontsize=16)"
   ]
  },
  {
   "cell_type": "markdown",
   "metadata": {},
   "source": [
    "<font color='blue'> Universal Pictures has released the most of movies. Consequently, it has driven the most revenue.\n",
    "However, Lucasfilm, that is the second to generate the most of revenues, hasn't released most of 115 movies. We might explain it by the fact that Universal Pictures has been created in 1912 and Lucasfilm in 1971.\n",
    "Lucasfilm released Star Wars. </font>"
   ]
  },
  {
   "cell_type": "markdown",
   "metadata": {},
   "source": [
    "### Q9: Overview of the studios that work with the same actors."
   ]
  },
  {
   "cell_type": "code",
   "execution_count": 58,
   "metadata": {
    "scrolled": false
   },
   "outputs": [
    {
     "data": {
      "text/plain": [
       "cast                   studio                   \n",
       "Adam Sandler           Columbia Pictures            13\n",
       "Clint Eastwood         Malpaso Productions          13\n",
       "Eddie Murphy           Paramount Pictures           12\n",
       "Tom Cruise             Paramount Pictures           12\n",
       "Clint Eastwood         Warner Bros.                 10\n",
       "John Travolta          Paramount Pictures            9\n",
       "John Wayne             Paramount Pictures            8\n",
       "Robert Englund         New Line Cinema               7\n",
       "Roger Moore            Eon Productions               7\n",
       "Mark Wahlberg          Paramount Pictures            7\n",
       "Peter Sellers          United Artists                6\n",
       "Chevy Chase            Warner Bros.                  6\n",
       "Harrison Ford          Paramount Pictures            6\n",
       "Jean-Claude Van Damme  Universal Pictures            6\n",
       "Sean Connery           Eon Productions               6\n",
       "Woody Allen            Orion Pictures                6\n",
       "Steven Seagal          Warner Bros.                  6\n",
       "Tim Allen              Walt Disney Pictures          6\n",
       "Kevin Conroy           DC Comics                     6\n",
       "Matt Damon             Universal Pictures            6\n",
       "John Wayne             Batjac Productions            6\n",
       "Keanu Reeves           Village Roadshow Pictures     6\n",
       "Vincent Price          Alta Vista Productions        6\n",
       "Richard Gere           Paramount Pictures            6\n",
       "Charlton Heston        Universal Pictures            5\n",
       "Mae Whitman            DisneyToon Studios            5\n",
       "Denzel Washington      Universal Pictures            5\n",
       "Clint Eastwood         Universal Pictures            5\n",
       "Robert Redford         Paramount Pictures            5\n",
       "Robert De Niro         Universal Pictures            5\n",
       "Name: movie, dtype: int64"
      ]
     },
     "execution_count": 58,
     "metadata": {},
     "output_type": "execute_result"
    }
   ],
   "source": [
    "# Returns the number of times an actor played a movie with a specific studio. \n",
    "df.groupby(['cast','studio']).count()['movie'].sort_values(ascending=False)[0:30]"
   ]
  },
  {
   "cell_type": "markdown",
   "metadata": {},
   "source": [
    "### Q10: What is the best month to release a movie in terms of profit?"
   ]
  },
  {
   "cell_type": "code",
   "execution_count": 59,
   "metadata": {
    "collapsed": true
   },
   "outputs": [],
   "source": [
    "# Returns month of release\n",
    "df['dates'] = pd.to_datetime(df['dates'])\n",
    "month = df['month'] = df['dates'].dt.month"
   ]
  },
  {
   "cell_type": "code",
   "execution_count": 60,
   "metadata": {
    "collapsed": true
   },
   "outputs": [],
   "source": [
    "import calendar\n",
    "df['month'] = df['month'].apply(lambda x: calendar.month_abbr[x]).sort_index()"
   ]
  },
  {
   "cell_type": "code",
   "execution_count": 61,
   "metadata": {
    "scrolled": true
   },
   "outputs": [
    {
     "data": {
      "text/plain": [
       "month\n",
       "Apr   19,429,190,016\n",
       "Aug   19,319,436,285\n",
       "Dec   58,192,867,861\n",
       "Feb   12,802,657,757\n",
       "Jan   10,405,715,061\n",
       "Jul   39,642,010,065\n",
       "Jun   58,342,836,516\n",
       "Mar   26,719,373,894\n",
       "May   42,842,698,721\n",
       "Nov   39,887,976,856\n",
       "Oct   22,628,065,975\n",
       "Sep   16,505,537,827\n",
       "Name: profit, dtype: float64"
      ]
     },
     "execution_count": 61,
     "metadata": {},
     "output_type": "execute_result"
    }
   ],
   "source": [
    "monthly_profit = df.groupby('month')['profit'].sum()\n",
    "monthly_profit"
   ]
  },
  {
   "cell_type": "code",
   "execution_count": 62,
   "metadata": {
    "scrolled": false
   },
   "outputs": [
    {
     "data": {
      "text/html": [
       "<div>\n",
       "<style>\n",
       "    .dataframe thead tr:only-child th {\n",
       "        text-align: right;\n",
       "    }\n",
       "\n",
       "    .dataframe thead th {\n",
       "        text-align: left;\n",
       "    }\n",
       "\n",
       "    .dataframe tbody tr th {\n",
       "        vertical-align: top;\n",
       "    }\n",
       "</style>\n",
       "<table border=\"1\" class=\"dataframe\">\n",
       "  <thead>\n",
       "    <tr style=\"text-align: right;\">\n",
       "      <th></th>\n",
       "      <th>profit</th>\n",
       "    </tr>\n",
       "    <tr>\n",
       "      <th>month</th>\n",
       "      <th></th>\n",
       "    </tr>\n",
       "  </thead>\n",
       "  <tbody>\n",
       "    <tr>\n",
       "      <th>Apr</th>\n",
       "      <td>19,429,190,016</td>\n",
       "    </tr>\n",
       "    <tr>\n",
       "      <th>Aug</th>\n",
       "      <td>19,319,436,285</td>\n",
       "    </tr>\n",
       "    <tr>\n",
       "      <th>Dec</th>\n",
       "      <td>58,192,867,861</td>\n",
       "    </tr>\n",
       "    <tr>\n",
       "      <th>Feb</th>\n",
       "      <td>12,802,657,757</td>\n",
       "    </tr>\n",
       "    <tr>\n",
       "      <th>Jan</th>\n",
       "      <td>10,405,715,061</td>\n",
       "    </tr>\n",
       "    <tr>\n",
       "      <th>Jul</th>\n",
       "      <td>39,642,010,065</td>\n",
       "    </tr>\n",
       "    <tr>\n",
       "      <th>Jun</th>\n",
       "      <td>58,342,836,516</td>\n",
       "    </tr>\n",
       "    <tr>\n",
       "      <th>Mar</th>\n",
       "      <td>26,719,373,894</td>\n",
       "    </tr>\n",
       "    <tr>\n",
       "      <th>May</th>\n",
       "      <td>42,842,698,721</td>\n",
       "    </tr>\n",
       "    <tr>\n",
       "      <th>Nov</th>\n",
       "      <td>39,887,976,856</td>\n",
       "    </tr>\n",
       "    <tr>\n",
       "      <th>Oct</th>\n",
       "      <td>22,628,065,975</td>\n",
       "    </tr>\n",
       "    <tr>\n",
       "      <th>Sep</th>\n",
       "      <td>16,505,537,827</td>\n",
       "    </tr>\n",
       "  </tbody>\n",
       "</table>\n",
       "</div>"
      ],
      "text/plain": [
       "              profit\n",
       "month               \n",
       "Apr   19,429,190,016\n",
       "Aug   19,319,436,285\n",
       "Dec   58,192,867,861\n",
       "Feb   12,802,657,757\n",
       "Jan   10,405,715,061\n",
       "Jul   39,642,010,065\n",
       "Jun   58,342,836,516\n",
       "Mar   26,719,373,894\n",
       "May   42,842,698,721\n",
       "Nov   39,887,976,856\n",
       "Oct   22,628,065,975\n",
       "Sep   16,505,537,827"
      ]
     },
     "execution_count": 62,
     "metadata": {},
     "output_type": "execute_result"
    }
   ],
   "source": [
    "monthly_profit = pd.DataFrame(monthly_profit)\n",
    "monthly_profit"
   ]
  },
  {
   "cell_type": "code",
   "execution_count": 63,
   "metadata": {},
   "outputs": [
    {
     "data": {
      "text/html": [
       "<div>\n",
       "<style>\n",
       "    .dataframe thead tr:only-child th {\n",
       "        text-align: right;\n",
       "    }\n",
       "\n",
       "    .dataframe thead th {\n",
       "        text-align: left;\n",
       "    }\n",
       "\n",
       "    .dataframe tbody tr th {\n",
       "        vertical-align: top;\n",
       "    }\n",
       "</style>\n",
       "<table border=\"1\" class=\"dataframe\">\n",
       "  <thead>\n",
       "    <tr style=\"text-align: right;\">\n",
       "      <th></th>\n",
       "      <th>profit</th>\n",
       "    </tr>\n",
       "    <tr>\n",
       "      <th>month</th>\n",
       "      <th></th>\n",
       "    </tr>\n",
       "  </thead>\n",
       "  <tbody>\n",
       "    <tr>\n",
       "      <th>Jan</th>\n",
       "      <td>10,405,715,061</td>\n",
       "    </tr>\n",
       "    <tr>\n",
       "      <th>Feb</th>\n",
       "      <td>12,802,657,757</td>\n",
       "    </tr>\n",
       "    <tr>\n",
       "      <th>Mar</th>\n",
       "      <td>26,719,373,894</td>\n",
       "    </tr>\n",
       "    <tr>\n",
       "      <th>Apr</th>\n",
       "      <td>19,429,190,016</td>\n",
       "    </tr>\n",
       "    <tr>\n",
       "      <th>May</th>\n",
       "      <td>42,842,698,721</td>\n",
       "    </tr>\n",
       "    <tr>\n",
       "      <th>Jun</th>\n",
       "      <td>58,342,836,516</td>\n",
       "    </tr>\n",
       "    <tr>\n",
       "      <th>Jul</th>\n",
       "      <td>39,642,010,065</td>\n",
       "    </tr>\n",
       "    <tr>\n",
       "      <th>Aug</th>\n",
       "      <td>19,319,436,285</td>\n",
       "    </tr>\n",
       "    <tr>\n",
       "      <th>Sep</th>\n",
       "      <td>16,505,537,827</td>\n",
       "    </tr>\n",
       "    <tr>\n",
       "      <th>Oct</th>\n",
       "      <td>22,628,065,975</td>\n",
       "    </tr>\n",
       "    <tr>\n",
       "      <th>Nov</th>\n",
       "      <td>39,887,976,856</td>\n",
       "    </tr>\n",
       "    <tr>\n",
       "      <th>Dec</th>\n",
       "      <td>58,192,867,861</td>\n",
       "    </tr>\n",
       "  </tbody>\n",
       "</table>\n",
       "</div>"
      ],
      "text/plain": [
       "              profit\n",
       "month               \n",
       "Jan   10,405,715,061\n",
       "Feb   12,802,657,757\n",
       "Mar   26,719,373,894\n",
       "Apr   19,429,190,016\n",
       "May   42,842,698,721\n",
       "Jun   58,342,836,516\n",
       "Jul   39,642,010,065\n",
       "Aug   19,319,436,285\n",
       "Sep   16,505,537,827\n",
       "Oct   22,628,065,975\n",
       "Nov   39,887,976,856\n",
       "Dec   58,192,867,861"
      ]
     },
     "execution_count": 63,
     "metadata": {},
     "output_type": "execute_result"
    }
   ],
   "source": [
    "# Returns the profit sorted per month\n",
    "ordered = ['Jan', 'Feb', 'Mar', 'Apr', 'May', 'Jun', 'Jul', 'Aug', 'Sep', 'Oct', 'Nov', 'Dec']\n",
    "monthly_profit2=monthly_profit.reindex(ordered)\n",
    "monthly_profit2"
   ]
  },
  {
   "cell_type": "code",
   "execution_count": 64,
   "metadata": {
    "scrolled": false
   },
   "outputs": [
    {
     "data": {
      "image/png": "[encoded data removed]",
      "text/plain": [
       "<matplotlib.figure.Figure at 0x1a15049048>"
      ]
     },
     "metadata": {},
     "output_type": "display_data"
    }
   ],
   "source": [
    "# Creates the chart\n",
    "monthly_profit_bar = sn.barplot(x = monthly_profit2.index, y = monthly_profit2.profit, data = monthly_profit2)\n",
    "\n",
    "# Sets the size of the chart\n",
    "monthly_profit_bar.figure.set_size_inches(15,8)\n",
    "\n",
    "# Sets titlte\n",
    "monthly_profit_bar.axes.set_title('Profit by monthly releases',color=\"#660033\", fontsize = 18, alpha = 0.6, fontname=\"Cooper Std\")\n",
    "\n",
    "# Sets x and y axes\n",
    "monthly_profit_bar.set_xlabel(\"Months\", color=\"#99004C\", fontsize = 18, style='italic')\n",
    "monthly_profit_bar.set_ylabel(\"Profits\", color=\"#CC0066\", fontsize = 18, style='italic')\n",
    "\n",
    "monthly_profit_bar.tick_params(labelsize = 15, labelcolor=\"black\")\n",
    "\n",
    "month_list = ['January', 'February', 'March', 'April', 'May', 'June', 'July', 'August', 'September', 'October', 'November', 'December']\n",
    "\n",
    "monthly_profit_bar.set_xticklabels(month_list, rotation = 30, size = 15)\n",
    "\n",
    "plt.show()"
   ]
  },
  {
   "cell_type": "markdown",
   "metadata": {},
   "source": [
    "<font color='blue'> June and December appear as the best months to release movies. December is the month of Winter Holidays, so it makes sense.  </font>"
   ]
  },
  {
   "cell_type": "markdown",
   "metadata": {},
   "source": [
    "<a id='conclusions'></a>\n",
    "## Conclusions\n",
    "<font color='blue'>\n",
    "<br>As a reminder, we tried to answer the following question: ***What affects the amount of money (either revenue or profit) a movie makes?*** <br/>\n",
    "\n",
    "<br>We could notice that the number of movies released per year has been increasing. We can explain it by the innovation made year over year thanks to the evolution of the new technologies. \n",
    "The evolution of the profit follows the same trend, which makes sense because the more movies are released, the more revenue can be generated. As for the profit average, the trend has been reversed since the 80's-90's. \n",
    "During the first two decades, we can observe two significant spikes. This can be explained by the fact that there were less movies to be released, so the profit was more volatile.<br/>\n",
    "\n",
    "<br>Drama, Comedy and Action are the three genres that makes the most movies and the most profit. Except that the Adventure genre is the second one to be profitable, while there has been only a few movies (511) released in this category. This is due to the release of Avatar, which is one of the most profitable movies. As for the Action genre, which is the one to drive the highest profit, this is due to the release of Star Wars.\n",
    "Indeed, we could point out that the 5 best movies based on revenue and profit are: Avatar, Star Wars, Titanic, Exorcist and Jaws.<br/>\n",
    "\n",
    "<br>Also, the type of movies that are driving the most revenue are Action and Adventure. This makes sense since Avatar and Star Wars are categorized as Adventure and Action movies.\n",
    "Besides, the profitable studios have released Action and Adventure movies in 2015 such as Star Wars, Avengers, Furious 7, Jurassic World and Minions.<br/>\n",
    "\n",
    "<br>Furthermore, we could highlight that the best months to release movies are June and December, thanks to the holidays.<br/>\n",
    "\n",
    "<br>Finally, it's been interesting to notice that none of the 5 keywords, that generate the higher revenues, have not been used do describe one of the 5 best movies (in terms of revenue). It would make sense to go further into the analysis.<br/> \n",
    "\n",
    "<br><strong><mark>LIMITATIONS</mark></strong><br/>\n",
    "\n",
    "<br>As we noticed earlier, there are some missing values. We had to drop the affected rows. This means that our analysis is not 100% accurate as we haven't been able to analyze the entire dataset.\n",
    "For example, X and X might not be the most popular genres between 1960 and 2015.<br/>\n",
    "\n",
    "<br>Also, some cells such as productions (studios), cast, keywords contain several values separated with pipes (\"|\"). As explained in the analysis above, we extracted the first value only. Thus, the results may not be 100% accurate as we did not include all of them.\n",
    "\n",
    "</font>\n",
    "\n"
   ]
  },
  {
   "cell_type": "markdown",
   "metadata": {},
   "source": [
    "<a id='resources'></a>\n",
    "## Resources\n",
    "\n",
    "> Project Walkthrough\n",
    "\n",
    "> https://stackoverflow.com/questions/47022070/display-all-dataframe-columns-in-a-jupyter-python-notebook<br>\n",
    "> https://stackoverflow.com/questions/11346283/renaming-columns-in-pandas<br>\n",
    "> https://stackoverflow.com/questions/20868394/changing-a-specific-column-name-in-pandas-dataframe<br>\n",
    "> https://stackoverflow.com/questions/7844118/how-to-convert-comma-delimited-string-to-list-in-python<br>\n",
    "> https://docs.python.org/3/library/locale.html<br>\n",
    "> https://stackoverflow.com/questions/473099/check-if-a-given-key-already-exists-in-a-dictionary-and-increment-it<br>\n",
    "> https://www.kaggle.com/adiljadoon/word-cloud-with-python<br>\n",
    "> https://stackoverflow.com/questions/24183101/pandas-bar-plot-with-two-bars-and-two-y-axis<br>\n",
    "> https://discuss.analyticsvidhya.com/t/how-to-make-a-text-bold-within-print-statement-in-ipython-notebook/14552/3<br>\n",
    "> https://python-graph-gallery.com/122-multiple-lines-chart/<br>\n",
    "> https://pandas.pydata.org/pandas-docs/stable/generated/pandas.DataFrame.plot.html<br>\n",
    "> https://stackoverflow.com/questions/5484922/secondary-axis-with-twinx-how-to-add-to-legend <br>\n",
    "> https://stackoverflow.com/questions/46011940/how-to-plot-two-pandas-time-series-on-same-plot-with-legends-and-secondary-y-axi<br>\n",
    "> http://leportella.com/cheatlist/2017/11/22/pandas-cheat-list.html,br>\n",
    "> https://stackoverflow.com/questions/30405413/python-pandas-extract-year-from-datetime-dfyear-dfdate-year-is-not<br>\n",
    "> https://stackoverflow.com/questions/37625334/python-pandas-convert-month-int-to-month-name<br>\n",
    "> https://stackoverflow.com/questions/40816144/pandas-series-sort-by-month-index<br>\n",
    "> https://www.youtube.com/watch?v=zg2b4GQd2NA <br>\n",
    "> https://www.wired.com/2014/09/cinema-is-evolving/ <br>\n",
    "> http://www.nytimes.com/2010/11/14/movies/14dargis.html <br>\n",
    "> https://stephenfollows.com/how-many-films-are-released-each-year/ <br>\n",
    "> https://en.wikipedia.org/wiki/Cinema_of_the_United_States<br>\n"
   ]
  },
  {
   "cell_type": "code",
   "execution_count": 65,
   "metadata": {},
   "outputs": [
    {
     "data": {
      "text/plain": [
       "0"
      ]
     },
     "execution_count": 65,
     "metadata": {},
     "output_type": "execute_result"
    }
   ],
   "source": [
    "from subprocess import call\n",
    "call(['python', '-m', 'nbconvert', 'FinalV3_TMDb_Movie_Data_Analysis.ipynb'])"
   ]
  }
 ],
 "metadata": {
  "kernelspec": {
   "display_name": "Python 3",
   "language": "python",
   "name": "python3"
  },
  "language_info": {
   "codemirror_mode": {
    "name": "ipython",
    "version": 3
   },
   "file_extension": ".py",
   "mimetype": "text/x-python",
   "name": "python",
   "nbconvert_exporter": "python",
   "pygments_lexer": "ipython3",
   "version": "3.6.3"
  }
 },
 "nbformat": 4,
 "nbformat_minor": 2
}
